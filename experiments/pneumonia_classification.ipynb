{
 "cells": [
  {
   "cell_type": "code",
   "execution_count": 4,
   "metadata": {},
   "outputs": [],
   "source": [
    "from transformers import pipeline"
   ]
  },
  {
   "cell_type": "code",
   "execution_count": 5,
   "metadata": {},
   "outputs": [
    {
     "data": {
      "text/plain": [
       "True"
      ]
     },
     "execution_count": 5,
     "metadata": {},
     "output_type": "execute_result"
    }
   ],
   "source": [
    "import torch\n",
    "torch.cuda.is_available()"
   ]
  },
  {
   "cell_type": "code",
   "execution_count": 6,
   "metadata": {},
   "outputs": [
    {
     "data": {
      "text/plain": [
       "[{'label': 'PNEUMONIA', 'score': 0.990334689617157},\n",
       " {'label': 'NORMAL', 'score': 0.009665313176810741}]"
      ]
     },
     "execution_count": 6,
     "metadata": {},
     "output_type": "execute_result"
    }
   ],
   "source": [
    "classifier = pipeline(model=\"lxyuan/vit-xray-pneumonia-classification\", device_map=\"auto\")\n",
    "classifier(\"https://d2jx2rerrg6sh3.cloudfront.net/image-handler/ts/20200618040600/ri/650/picture/2020/6/shutterstock_786937069.jpg\")"
   ]
  },
  {
   "cell_type": "code",
   "execution_count": 7,
   "metadata": {},
   "outputs": [
    {
     "name": "stdout",
     "output_type": "stream",
     "text": [
      "[{'label': 'NORMAL', 'score': 0.9739130139350891}, {'label': 'PNEUMONIA', 'score': 0.02608693204820156}]\n"
     ]
    },
    {
     "data": {
      "text/plain": [
       "[{'label': 'PNEUMONIA', 'score': 0.9918421506881714},\n",
       " {'label': 'NORMAL', 'score': 0.008157826028764248}]"
      ]
     },
     "execution_count": 7,
     "metadata": {},
     "output_type": "execute_result"
    }
   ],
   "source": [
    "image2 = \"https://litfl.com/wp-content/uploads/2019/05/Chest-XR-LLL-pneumonia.jpg\"\n",
    "image3= \"https://prod-images-static.radiopaedia.org/images/5694966/427999aeccc99dc905018f4f82bc5f.jpg\"\n",
    "\n",
    "print(classifier(image2))\n",
    "classifier(image3)"
   ]
  }
 ],
 "metadata": {
  "kernelspec": {
   "display_name": "base",
   "language": "python",
   "name": "python3"
  },
  "language_info": {
   "codemirror_mode": {
    "name": "ipython",
    "version": 3
   },
   "file_extension": ".py",
   "mimetype": "text/x-python",
   "name": "python",
   "nbconvert_exporter": "python",
   "pygments_lexer": "ipython3",
   "version": "3.11.9"
  }
 },
 "nbformat": 4,
 "nbformat_minor": 2
}
