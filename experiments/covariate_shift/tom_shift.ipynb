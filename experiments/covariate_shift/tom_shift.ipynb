{
 "cells": [
  {
   "cell_type": "code",
   "execution_count": 48,
   "metadata": {},
   "outputs": [
    {
     "data": {
      "text/plain": [
       "True"
      ]
     },
     "execution_count": 48,
     "metadata": {},
     "output_type": "execute_result"
    }
   ],
   "source": [
    "from transformers import pipeline\n",
    "import torch\n",
    "import pandas as pd\n",
    "from PIL import Image\n",
    "import os\n",
    "import evaluate\n",
    "import math\n",
    "\n",
    "\n",
    "torch.cuda.is_available()"
   ]
  },
  {
   "cell_type": "code",
   "execution_count": 62,
   "metadata": {},
   "outputs": [],
   "source": [
    "# Prepare input samples\n",
    "\n",
    "real_cat_dir = \"archive/CAT_04\"\n",
    "tom_dir = \"archive/tom_and_jerry/tom_and_jerry/tom\"\n",
    "real_dog_dir = \"archive/n02110063-malamute\"\n",
    "cartoon_dog_dir = \"archive/cartoon_dogs_val_images\"\n",
    "\n",
    "img_folder = cartoon_dog_dir\n",
    "images = []\n",
    "files = []\n",
    "\n",
    "for file in os.listdir(img_folder):\n",
    "    try:\n",
    "        img_path = os.path.join(img_folder, file)\n",
    "        img = Image.open(img_path)\n",
    "        images.append(img)\n",
    "        files.append(file)\n",
    "    except IOError:\n",
    "        print(f\"Could not read image: {file}\")"
   ]
  },
  {
   "cell_type": "code",
   "execution_count": 65,
   "metadata": {},
   "outputs": [
    {
     "name": "stderr",
     "output_type": "stream",
     "text": [
      "Could not find image processor class in the image processor config or the model config. Loading based on pattern matching with the model's feature extractor configuration. Please open a PR/issue to update `preprocessor_config.json` to use `image_processor_type` instead of `feature_extractor_type`. This warning will be removed in v4.40.\n"
     ]
    }
   ],
   "source": [
    "# Prepare baseline models\n",
    "classifier = pipeline(model=\"efederici/convnext-base-224-22k-1k-orig-cats-vs-dogs\",  device=0)\n",
    "\n",
    "results = classifier(images)"
   ]
  },
  {
   "cell_type": "code",
   "execution_count": 66,
   "metadata": {},
   "outputs": [
    {
     "name": "stdout",
     "output_type": "stream",
     "text": [
      "Results for 1076.jpg: [{'label': 'Dog', 'score': 0.9983548521995544}, {'label': 'Cat', 'score': 0.0016450758557766676}]\n",
      "Results for 809.jpg: [{'label': 'Dog', 'score': 0.973152756690979}, {'label': 'Cat', 'score': 0.02684727869927883}]\n",
      "Results for 737.jpg: [{'label': 'Dog', 'score': 0.9996005892753601}, {'label': 'Cat', 'score': 0.0003994413127657026}]\n",
      "Results for 1239.jpg: [{'label': 'Dog', 'score': 0.892386794090271}, {'label': 'Cat', 'score': 0.10761323571205139}]\n",
      "Results for 1277.jpg: [{'label': 'Dog', 'score': 0.9954407215118408}, {'label': 'Cat', 'score': 0.004559307359158993}]\n",
      "Results for 713.jpg: [{'label': 'Dog', 'score': 0.8238659501075745}, {'label': 'Cat', 'score': 0.17613404989242554}]\n",
      "Results for 889.jpg: [{'label': 'Dog', 'score': 0.6903964877128601}, {'label': 'Cat', 'score': 0.3096035420894623}]\n",
      "Results for 1058.jpg: [{'label': 'Dog', 'score': 0.9911337494850159}, {'label': 'Cat', 'score': 0.00886627472937107}]\n",
      "Results for 1146.jpg: [{'label': 'Dog', 'score': 0.9992052912712097}, {'label': 'Cat', 'score': 0.0007947285193949938}]\n",
      "Results for 805.jpg: [{'label': 'Dog', 'score': 0.9473234415054321}, {'label': 'Cat', 'score': 0.05267650634050369}]\n",
      "Results for 800.jpg: [{'label': 'Dog', 'score': 0.996222734451294}, {'label': 'Cat', 'score': 0.0037772308569401503}]\n",
      "Results for 759.jpg: [{'label': 'Dog', 'score': 0.8261890411376953}, {'label': 'Cat', 'score': 0.1738109588623047}]\n",
      "Results for 1201.jpg: [{'label': 'Cat', 'score': 0.8574098348617554}, {'label': 'Dog', 'score': 0.14259018003940582}]\n",
      "Results for 778.jpg: [{'label': 'Dog', 'score': 0.9970976114273071}, {'label': 'Cat', 'score': 0.0029024500399827957}]\n",
      "Results for 1194.jpg: [{'label': 'Dog', 'score': 0.5489479899406433}, {'label': 'Cat', 'score': 0.4510520398616791}]\n",
      "Results for 760.jpg: [{'label': 'Dog', 'score': 0.8260795474052429}, {'label': 'Cat', 'score': 0.1739204376935959}]\n",
      "Results for 797.jpg: [{'label': 'Dog', 'score': 0.9665079116821289}, {'label': 'Cat', 'score': 0.033492155373096466}]\n",
      "Results for 791.jpg: [{'label': 'Dog', 'score': 0.996030867099762}, {'label': 'Cat', 'score': 0.003969145473092794}]\n",
      "Results for 1073.jpg: [{'label': 'Dog', 'score': 0.9791288375854492}, {'label': 'Cat', 'score': 0.020871128886938095}]\n",
      "Results for 1079.jpg: [{'label': 'Dog', 'score': 0.9984239339828491}, {'label': 'Cat', 'score': 0.0015760681126266718}]\n",
      "Results for 948.jpg: [{'label': 'Dog', 'score': 0.5409383177757263}, {'label': 'Cat', 'score': 0.4590616822242737}]\n",
      "Results for 763.jpg: [{'label': 'Dog', 'score': 0.9995323419570923}, {'label': 'Cat', 'score': 0.0004677233810070902}]\n",
      "Results for 814.jpg: [{'label': 'Dog', 'score': 0.9989466071128845}, {'label': 'Cat', 'score': 0.0010534467874094844}]\n",
      "Results for 932.jpg: [{'label': 'Dog', 'score': 0.9928988218307495}, {'label': 'Cat', 'score': 0.007101173512637615}]\n",
      "Results for 1179.jpg: [{'label': 'Dog', 'score': 0.5198994874954224}, {'label': 'Cat', 'score': 0.48010051250457764}]\n",
      "Results for 749.jpg: [{'label': 'Dog', 'score': 0.9992979764938354}, {'label': 'Cat', 'score': 0.0007019552285782993}]\n",
      "Results for 782.jpg: [{'label': 'Dog', 'score': 0.9591207504272461}, {'label': 'Cat', 'score': 0.040879301726818085}]\n",
      "Results for 1306.jpg: [{'label': 'Dog', 'score': 0.7969549894332886}, {'label': 'Cat', 'score': 0.203045055270195}]\n",
      "Results for 1355.jpg: [{'label': 'Dog', 'score': 0.9033400416374207}, {'label': 'Cat', 'score': 0.09665991365909576}]\n",
      "Results for 1154.jpg: [{'label': 'Dog', 'score': 0.9978471994400024}, {'label': 'Cat', 'score': 0.00215278472751379}]\n",
      "Results for 789.jpg: [{'label': 'Dog', 'score': 0.5797172784805298}, {'label': 'Cat', 'score': 0.4202826917171478}]\n",
      "Results for 925.jpg: [{'label': 'Dog', 'score': 0.9668896794319153}, {'label': 'Cat', 'score': 0.033110398799180984}]\n",
      "Results for 1290.jpg: [{'label': 'Dog', 'score': 0.9995507597923279}, {'label': 'Cat', 'score': 0.0004492606676649302}]\n",
      "Results for 1287.jpg: [{'label': 'Cat', 'score': 0.5931423902511597}, {'label': 'Dog', 'score': 0.40685755014419556}]\n",
      "Results for 813.jpg: [{'label': 'Dog', 'score': 0.9991403818130493}, {'label': 'Cat', 'score': 0.0008595833787694573}]\n",
      "Results for 907.jpg: [{'label': 'Dog', 'score': 0.992893636226654}, {'label': 'Cat', 'score': 0.00710632000118494}]\n",
      "Results for 714.jpg: [{'label': 'Dog', 'score': 0.7387640476226807}, {'label': 'Cat', 'score': 0.2612359821796417}]\n",
      "Results for 685.jpg: [{'label': 'Dog', 'score': 0.9453446865081787}, {'label': 'Cat', 'score': 0.054655250161886215}]\n",
      "Results for 742.jpg: [{'label': 'Dog', 'score': 0.9993220567703247}, {'label': 'Cat', 'score': 0.000677929725497961}]\n",
      "Results for 812.jpg: [{'label': 'Dog', 'score': 0.9992750287055969}, {'label': 'Cat', 'score': 0.0007250046473927796}]\n",
      "Results for 1257.jpg: [{'label': 'Dog', 'score': 0.7126970291137695}, {'label': 'Cat', 'score': 0.2873029112815857}]\n",
      "Results for 1326.jpg: [{'label': 'Dog', 'score': 0.9924442172050476}, {'label': 'Cat', 'score': 0.007555742748081684}]\n",
      "Results for 801.jpg: [{'label': 'Dog', 'score': 0.9075237512588501}, {'label': 'Cat', 'score': 0.09247622638940811}]\n",
      "Results for 787.jpg: [{'label': 'Cat', 'score': 0.8306998610496521}, {'label': 'Dog', 'score': 0.16930021345615387}]\n",
      "Results for 766.jpg: [{'label': 'Dog', 'score': 0.7436164021492004}, {'label': 'Cat', 'score': 0.2563835680484772}]\n",
      "Results for 786.jpg: [{'label': 'Dog', 'score': 0.6250502467155457}, {'label': 'Cat', 'score': 0.37494972348213196}]\n",
      "Results for 1033.jpg: [{'label': 'Dog', 'score': 0.9568275809288025}, {'label': 'Cat', 'score': 0.043172407895326614}]\n",
      "Results for 783.jpg: [{'label': 'Dog', 'score': 0.9879533052444458}, {'label': 'Cat', 'score': 0.01204670686274767}]\n",
      "Results for 1200.jpg: [{'label': 'Cat', 'score': 0.8683078289031982}, {'label': 'Dog', 'score': 0.13169221580028534}]\n",
      "Results for 1023.jpg: [{'label': 'Dog', 'score': 0.8238404393196106}, {'label': 'Cat', 'score': 0.1761595755815506}]\n",
      "Results for 816.jpg: [{'label': 'Dog', 'score': 0.9996168613433838}, {'label': 'Cat', 'score': 0.00038307459908537567}]\n",
      "Results for 725.jpg: [{'label': 'Dog', 'score': 0.9906595945358276}, {'label': 'Cat', 'score': 0.009340385906398296}]\n",
      "Results for 811.jpg: [{'label': 'Dog', 'score': 0.9623970985412598}, {'label': 'Cat', 'score': 0.03760290518403053}]\n",
      "Results for 1119.jpg: [{'label': 'Dog', 'score': 0.9996044039726257}, {'label': 'Cat', 'score': 0.00039566156920045614}]\n",
      "Results for 1380.jpg: [{'label': 'Dog', 'score': 0.997826874256134}, {'label': 'Cat', 'score': 0.0021730936132371426}]\n",
      "Results for 1264.jpg: [{'label': 'Dog', 'score': 0.9480563998222351}, {'label': 'Cat', 'score': 0.05194360762834549}]\n",
      "Results for 768.jpg: [{'label': 'Dog', 'score': 0.9057801961898804}, {'label': 'Cat', 'score': 0.09421981871128082}]\n",
      "Results for 1160.jpg: [{'label': 'Dog', 'score': 0.71958327293396}, {'label': 'Cat', 'score': 0.28041669726371765}]\n",
      "Results for 736.jpg: [{'label': 'Dog', 'score': 0.9886309504508972}, {'label': 'Cat', 'score': 0.01136898435652256}]\n",
      "Results for 771.jpg: [{'label': 'Dog', 'score': 0.7511608004570007}, {'label': 'Cat', 'score': 0.24883919954299927}]\n",
      "Results for 764.jpg: [{'label': 'Cat', 'score': 0.5733718872070312}, {'label': 'Dog', 'score': 0.42662811279296875}]\n",
      "Results for 950.jpg: [{'label': 'Cat', 'score': 0.6783013939857483}, {'label': 'Dog', 'score': 0.3216986358165741}]\n",
      "Results for 810.jpg: [{'label': 'Dog', 'score': 0.9985414743423462}, {'label': 'Cat', 'score': 0.0014585965545848012}]\n",
      "Results for 1350.jpg: [{'label': 'Dog', 'score': 0.9988671541213989}, {'label': 'Cat', 'score': 0.001132896519266069}]\n",
      "Results for 1037.jpg: [{'label': 'Dog', 'score': 0.9994125366210938}, {'label': 'Cat', 'score': 0.000587416987400502}]\n",
      "Results for 1262.jpg: [{'label': 'Cat', 'score': 0.6211245059967041}, {'label': 'Dog', 'score': 0.3788755536079407}]\n",
      "Results for 1345.jpg: [{'label': 'Dog', 'score': 0.9835704565048218}, {'label': 'Cat', 'score': 0.016429582610726357}]\n",
      "Results for 1130.jpg: [{'label': 'Dog', 'score': 0.7077192664146423}, {'label': 'Cat', 'score': 0.2922807037830353}]\n",
      "Results for 777.jpg: [{'label': 'Dog', 'score': 0.9996110796928406}, {'label': 'Cat', 'score': 0.00038900470826774836}]\n",
      "Results for 790.jpg: [{'label': 'Dog', 'score': 0.9998800754547119}, {'label': 'Cat', 'score': 0.00011994085070909932}]\n",
      "Results for 1220.jpg: [{'label': 'Dog', 'score': 0.998462438583374}, {'label': 'Cat', 'score': 0.0015375465154647827}]\n",
      "Results for 1092.jpg: [{'label': 'Dog', 'score': 0.9970744848251343}, {'label': 'Cat', 'score': 0.0029254616238176823}]\n",
      "Results for 886.jpg: [{'label': 'Dog', 'score': 0.646965503692627}, {'label': 'Cat', 'score': 0.35303443670272827}]\n",
      "Results for 930.jpg: [{'label': 'Dog', 'score': 0.9689212441444397}, {'label': 'Cat', 'score': 0.031078718602657318}]\n",
      "Results for 1381.jpg: [{'label': 'Dog', 'score': 0.838254988193512}, {'label': 'Cat', 'score': 0.16174504160881042}]\n",
      "Results for 819.jpg: [{'label': 'Dog', 'score': 0.9988588094711304}, {'label': 'Cat', 'score': 0.0011412340681999922}]\n",
      "Results for 734.jpg: [{'label': 'Dog', 'score': 0.9115978479385376}, {'label': 'Cat', 'score': 0.08840213716030121}]\n",
      "Results for 1138.jpg: [{'label': 'Cat', 'score': 0.8129300475120544}, {'label': 'Dog', 'score': 0.18706999719142914}]\n",
      "Results for 683.jpg: [{'label': 'Dog', 'score': 0.9861122965812683}, {'label': 'Cat', 'score': 0.013887639157474041}]\n",
      "Results for 1286.jpg: [{'label': 'Dog', 'score': 0.9699031710624695}, {'label': 'Cat', 'score': 0.030096815899014473}]\n",
      "Results for 998.jpg: [{'label': 'Cat', 'score': 0.7227975130081177}, {'label': 'Dog', 'score': 0.2772025167942047}]\n",
      "Results for 986.jpg: [{'label': 'Dog', 'score': 0.9998629093170166}, {'label': 'Cat', 'score': 0.00013703438162337989}]\n",
      "Results for 776.jpg: [{'label': 'Dog', 'score': 0.904680073261261}, {'label': 'Cat', 'score': 0.09531997889280319}]\n",
      "Results for 904.jpg: [{'label': 'Dog', 'score': 0.991768479347229}, {'label': 'Cat', 'score': 0.008231451734900475}]\n",
      "Results for 706.jpg: [{'label': 'Dog', 'score': 0.7037385702133179}, {'label': 'Cat', 'score': 0.29626142978668213}]\n",
      "Results for 767.jpg: [{'label': 'Dog', 'score': 0.9998236298561096}, {'label': 'Cat', 'score': 0.00017644540639594197}]\n",
      "Results for 710.jpg: [{'label': 'Dog', 'score': 0.6604808568954468}, {'label': 'Cat', 'score': 0.3395191431045532}]\n",
      "Results for 808.jpg: [{'label': 'Dog', 'score': 0.9263256788253784}, {'label': 'Cat', 'score': 0.07367436587810516}]\n",
      "Results for 1102.jpg: [{'label': 'Dog', 'score': 0.9735967516899109}, {'label': 'Cat', 'score': 0.026403212919831276}]\n",
      "Results for 704.jpg: [{'label': 'Dog', 'score': 0.7125937342643738}, {'label': 'Cat', 'score': 0.28740623593330383}]\n",
      "Results for 668.jpg: [{'label': 'Dog', 'score': 0.9354162216186523}, {'label': 'Cat', 'score': 0.06458380073308945}]\n",
      "Results for 1170.jpg: [{'label': 'Dog', 'score': 0.9956814050674438}, {'label': 'Cat', 'score': 0.004318581894040108}]\n",
      "Results for 938.jpg: [{'label': 'Dog', 'score': 0.9965008497238159}, {'label': 'Cat', 'score': 0.003499177983030677}]\n",
      "Results for 888.jpg: [{'label': 'Dog', 'score': 0.947575032711029}, {'label': 'Cat', 'score': 0.052424948662519455}]\n",
      "Results for 1082.jpg: [{'label': 'Dog', 'score': 0.9986966252326965}, {'label': 'Cat', 'score': 0.001303423778153956}]\n",
      "Results for 1109.jpg: [{'label': 'Dog', 'score': 0.9999145269393921}, {'label': 'Cat', 'score': 8.544275624444708e-05}]\n",
      "Results for 709.jpg: [{'label': 'Dog', 'score': 0.9969326257705688}, {'label': 'Cat', 'score': 0.003067395184189081}]\n",
      "Results for 945.jpg: [{'label': 'Cat', 'score': 0.7357534766197205}, {'label': 'Dog', 'score': 0.26424646377563477}]\n",
      "Results for 716.jpg: [{'label': 'Dog', 'score': 0.8497628569602966}, {'label': 'Cat', 'score': 0.15023714303970337}]\n",
      "Results for 792.jpg: [{'label': 'Dog', 'score': 0.9689160585403442}, {'label': 'Cat', 'score': 0.031083891168236732}]\n",
      "Results for 1017.jpg: [{'label': 'Dog', 'score': 0.8467472195625305}, {'label': 'Cat', 'score': 0.1532527655363083}]\n",
      "Results for 817.jpg: [{'label': 'Dog', 'score': 0.9990271329879761}, {'label': 'Cat', 'score': 0.0009729291195981205}]\n",
      "Results for 708.jpg: [{'label': 'Dog', 'score': 0.6833065152168274}, {'label': 'Cat', 'score': 0.3166935443878174}]\n",
      "Results for 775.jpg: [{'label': 'Dog', 'score': 0.5263710618019104}, {'label': 'Cat', 'score': 0.4736289083957672}]\n",
      "Results for 911.jpg: [{'label': 'Dog', 'score': 0.9993533492088318}, {'label': 'Cat', 'score': 0.0006465901387855411}]\n",
      "Results for 762.jpg: [{'label': 'Dog', 'score': 0.9070025682449341}, {'label': 'Cat', 'score': 0.0929974764585495}]\n",
      "Results for 802.jpg: [{'label': 'Dog', 'score': 0.9960196614265442}, {'label': 'Cat', 'score': 0.003980329725891352}]\n",
      "Results for 807.jpg: [{'label': 'Dog', 'score': 0.7151980400085449}, {'label': 'Cat', 'score': 0.28480198979377747}]\n",
      "Results for 674.jpg: [{'label': 'Dog', 'score': 0.7068239450454712}, {'label': 'Cat', 'score': 0.2931760251522064}]\n",
      "Results for 958.jpg: [{'label': 'Cat', 'score': 0.6650488376617432}, {'label': 'Dog', 'score': 0.33495116233825684}]\n",
      "Results for 1321.jpg: [{'label': 'Cat', 'score': 0.5611920952796936}, {'label': 'Dog', 'score': 0.4388079047203064}]\n",
      "Results for 761.jpg: [{'label': 'Dog', 'score': 0.9907864928245544}, {'label': 'Cat', 'score': 0.009213495999574661}]\n",
      "Results for 784.jpg: [{'label': 'Dog', 'score': 0.6631733179092407}, {'label': 'Cat', 'score': 0.3368266522884369}]\n",
      "Results for 1035.jpg: [{'label': 'Dog', 'score': 0.9752762913703918}, {'label': 'Cat', 'score': 0.024723660200834274}]\n",
      "Results for 1226.jpg: [{'label': 'Dog', 'score': 0.9947010278701782}, {'label': 'Cat', 'score': 0.0052990540862083435}]\n",
      "Results for 1143.jpg: [{'label': 'Dog', 'score': 0.9977447986602783}, {'label': 'Cat', 'score': 0.0022552222944796085}]\n",
      "Results for 999.jpg: [{'label': 'Cat', 'score': 0.9590230584144592}, {'label': 'Dog', 'score': 0.04097692668437958}]\n",
      "Results for 1336.jpg: [{'label': 'Cat', 'score': 0.6293867826461792}, {'label': 'Dog', 'score': 0.3706132471561432}]\n",
      "Results for 1274.jpg: [{'label': 'Dog', 'score': 0.955328106880188}, {'label': 'Cat', 'score': 0.04467184841632843}]\n",
      "Results for 1363.jpg: [{'label': 'Dog', 'score': 0.8929942846298218}, {'label': 'Cat', 'score': 0.10700574517250061}]\n",
      "Results for 1371.jpg: [{'label': 'Dog', 'score': 0.9139063954353333}, {'label': 'Cat', 'score': 0.08609362691640854}]\n",
      "Results for 1132.jpg: [{'label': 'Cat', 'score': 0.7631255984306335}, {'label': 'Dog', 'score': 0.23687435686588287}]\n",
      "Results for 917.jpg: [{'label': 'Dog', 'score': 0.9997531771659851}, {'label': 'Cat', 'score': 0.00024682210641913116}]\n",
      "Results for 1086.jpg: [{'label': 'Dog', 'score': 0.5970167517662048}, {'label': 'Cat', 'score': 0.4029832184314728}]\n",
      "Results for 1162.jpg: [{'label': 'Dog', 'score': 0.7818976640701294}, {'label': 'Cat', 'score': 0.218102365732193}]\n",
      "Results for 681.jpg: [{'label': 'Dog', 'score': 0.6627262234687805}, {'label': 'Cat', 'score': 0.3372737467288971}]\n",
      "Results for 755.jpg: [{'label': 'Dog', 'score': 0.9955770969390869}, {'label': 'Cat', 'score': 0.004422980826348066}]\n",
      "Results for 803.jpg: [{'label': 'Dog', 'score': 0.9990304708480835}, {'label': 'Cat', 'score': 0.0009695888729766011}]\n",
      "Results for 700.jpg: [{'label': 'Dog', 'score': 0.999728262424469}, {'label': 'Cat', 'score': 0.0002717146126087755}]\n",
      "Results for 1117.jpg: [{'label': 'Dog', 'score': 0.9983208775520325}, {'label': 'Cat', 'score': 0.0016791311791166663}]\n",
      "Results for 1140.jpg: [{'label': 'Dog', 'score': 0.9985085129737854}, {'label': 'Cat', 'score': 0.0014914347557350993}]\n",
      "Results for 794.jpg: [{'label': 'Dog', 'score': 0.9921042919158936}, {'label': 'Cat', 'score': 0.00789565034210682}]\n",
      "Results for 785.jpg: [{'label': 'Dog', 'score': 0.9899847507476807}, {'label': 'Cat', 'score': 0.010015216656029224}]\n",
      "Results for 781.jpg: [{'label': 'Dog', 'score': 0.9979559183120728}, {'label': 'Cat', 'score': 0.0020440355874598026}]\n",
      "Results for 779.jpg: [{'label': 'Dog', 'score': 0.8677451610565186}, {'label': 'Cat', 'score': 0.13225480914115906}]\n",
      "Results for 698.jpg: [{'label': 'Dog', 'score': 0.9997168183326721}, {'label': 'Cat', 'score': 0.00028317919350229204}]\n",
      "Results for 772.jpg: [{'label': 'Dog', 'score': 0.9761448502540588}, {'label': 'Cat', 'score': 0.02385520376265049}]\n",
      "Results for 770.jpg: [{'label': 'Dog', 'score': 0.8459677696228027}, {'label': 'Cat', 'score': 0.15403223037719727}]\n",
      "Results for 1169.jpg: [{'label': 'Cat', 'score': 0.8168915510177612}, {'label': 'Dog', 'score': 0.1831084042787552}]\n",
      "Results for 765.jpg: [{'label': 'Dog', 'score': 0.9918726086616516}, {'label': 'Cat', 'score': 0.008127364329993725}]\n",
      "Results for 661.jpg: [{'label': 'Dog', 'score': 0.9989200830459595}, {'label': 'Cat', 'score': 0.0010798989096656442}]\n",
      "Results for 1309.jpg: [{'label': 'Dog', 'score': 0.9970322847366333}, {'label': 'Cat', 'score': 0.0029676794074475765}]\n",
      "Results for 1089.jpg: [{'label': 'Dog', 'score': 0.9976902008056641}, {'label': 'Cat', 'score': 0.0023098192177712917}]\n",
      "Results for 1188.jpg: [{'label': 'Dog', 'score': 0.9948851466178894}, {'label': 'Cat', 'score': 0.0051148743368685246}]\n",
      "Results for 1159.jpg: [{'label': 'Cat', 'score': 0.510283350944519}, {'label': 'Dog', 'score': 0.48971661925315857}]\n",
      "Results for 769.jpg: [{'label': 'Dog', 'score': 0.994489312171936}, {'label': 'Cat', 'score': 0.005510710645467043}]\n",
      "Results for 815.jpg: [{'label': 'Dog', 'score': 0.9996780157089233}, {'label': 'Cat', 'score': 0.0003220088838133961}]\n",
      "Results for 1152.jpg: [{'label': 'Dog', 'score': 0.9839285612106323}, {'label': 'Cat', 'score': 0.016071386635303497}]\n",
      "Results for 796.jpg: [{'label': 'Dog', 'score': 0.9996984004974365}, {'label': 'Cat', 'score': 0.00030157138826325536}]\n",
      "Results for 1129.jpg: [{'label': 'Dog', 'score': 0.992988646030426}, {'label': 'Cat', 'score': 0.007011370733380318}]\n",
      "Results for 1271.jpg: [{'label': 'Dog', 'score': 0.999586284160614}, {'label': 'Cat', 'score': 0.0004136694478802383}]\n",
      "Results for 1062.jpg: [{'label': 'Dog', 'score': 0.9662164449691772}, {'label': 'Cat', 'score': 0.03378358110785484}]\n",
      "Results for 1346.jpg: [{'label': 'Dog', 'score': 0.8650951385498047}, {'label': 'Cat', 'score': 0.1349048614501953}]\n",
      "Results for 1134.jpg: [{'label': 'Dog', 'score': 0.7753661870956421}, {'label': 'Cat', 'score': 0.2246338278055191}]\n",
      "Results for 804.jpg: [{'label': 'Dog', 'score': 0.9997603297233582}, {'label': 'Cat', 'score': 0.0002396384224994108}]\n",
      "Results for 780.jpg: [{'label': 'Dog', 'score': 0.9989368319511414}, {'label': 'Cat', 'score': 0.0010631774784997106}]\n",
      "Results for 798.jpg: [{'label': 'Dog', 'score': 0.8097823858261108}, {'label': 'Cat', 'score': 0.19021761417388916}]\n",
      "Results for 919.jpg: [{'label': 'Cat', 'score': 0.5156087875366211}, {'label': 'Dog', 'score': 0.4843912720680237}]\n",
      "Results for 750.jpg: [{'label': 'Dog', 'score': 0.9945662021636963}, {'label': 'Cat', 'score': 0.005433736834675074}]\n",
      "Results for 702.jpg: [{'label': 'Dog', 'score': 0.9998546838760376}, {'label': 'Cat', 'score': 0.00014531021588481963}]\n",
      "Results for 795.jpg: [{'label': 'Dog', 'score': 0.8000615835189819}, {'label': 'Cat', 'score': 0.19993838667869568}]\n",
      "Results for 1068.jpg: [{'label': 'Dog', 'score': 0.9951310157775879}, {'label': 'Cat', 'score': 0.004868955817073584}]\n",
      "Results for 934.jpg: [{'label': 'Dog', 'score': 0.9983256459236145}, {'label': 'Cat', 'score': 0.0016744016902521253}]\n",
      "Results for 1198.jpg: [{'label': 'Dog', 'score': 0.8518075346946716}, {'label': 'Cat', 'score': 0.14819246530532837}]\n",
      "Results for 818.jpg: [{'label': 'Dog', 'score': 0.999026894569397}, {'label': 'Cat', 'score': 0.0009730773163028061}]\n",
      "Results for 1351.jpg: [{'label': 'Dog', 'score': 0.9281046390533447}, {'label': 'Cat', 'score': 0.07189536839723587}]\n",
      "Results for 1254.jpg: [{'label': 'Dog', 'score': 0.9897974729537964}, {'label': 'Cat', 'score': 0.01020254660397768}]\n",
      "Results for 793.jpg: [{'label': 'Dog', 'score': 0.9986926913261414}, {'label': 'Cat', 'score': 0.0013073773588985205}]\n",
      "Results for 1332.jpg: [{'label': 'Cat', 'score': 0.5755563974380493}, {'label': 'Dog', 'score': 0.4244435727596283}]\n",
      "Results for 715.jpg: [{'label': 'Dog', 'score': 0.9919098019599915}, {'label': 'Cat', 'score': 0.008090147748589516}]\n",
      "Results for 1024.jpg: [{'label': 'Dog', 'score': 0.9993071556091309}, {'label': 'Cat', 'score': 0.0006928393268026412}]\n",
      "Results for 1189.jpg: [{'label': 'Dog', 'score': 0.9992852807044983}, {'label': 'Cat', 'score': 0.0007148038130253553}]\n",
      "Results for 773.jpg: [{'label': 'Dog', 'score': 0.8849402666091919}, {'label': 'Cat', 'score': 0.11505977809429169}]\n",
      "Results for 997.jpg: [{'label': 'Dog', 'score': 0.5928666591644287}, {'label': 'Cat', 'score': 0.4071333706378937}]\n",
      "Results for 1260.jpg: [{'label': 'Dog', 'score': 0.8504617810249329}, {'label': 'Cat', 'score': 0.14953818917274475}]\n",
      "Results for 743.jpg: [{'label': 'Dog', 'score': 0.9972641468048096}, {'label': 'Cat', 'score': 0.002735822694376111}]\n",
      "Results for 1248.jpg: [{'label': 'Dog', 'score': 0.9781658053398132}, {'label': 'Cat', 'score': 0.02183423936367035}]\n",
      "Results for 1042.jpg: [{'label': 'Dog', 'score': 0.9981644749641418}, {'label': 'Cat', 'score': 0.0018355314387008548}]\n",
      "Results for 920.jpg: [{'label': 'Dog', 'score': 0.995783805847168}, {'label': 'Cat', 'score': 0.004216172266751528}]\n",
      "Results for 1299.jpg: [{'label': 'Cat', 'score': 0.7063671350479126}, {'label': 'Dog', 'score': 0.293632835149765}]\n",
      "Results for 1015.jpg: [{'label': 'Dog', 'score': 0.6820254921913147}, {'label': 'Cat', 'score': 0.3179745078086853}]\n",
      "Results for 1026.jpg: [{'label': 'Dog', 'score': 0.9987251162528992}, {'label': 'Cat', 'score': 0.0012749235611408949}]\n",
      "Results for 806.jpg: [{'label': 'Dog', 'score': 0.9994519352912903}, {'label': 'Cat', 'score': 0.0005480954423546791}]\n",
      "Results for 788.jpg: [{'label': 'Cat', 'score': 0.7445876598358154}, {'label': 'Dog', 'score': 0.2554123103618622}]\n",
      "Results for 731.jpg: [{'label': 'Dog', 'score': 0.6381236910820007}, {'label': 'Cat', 'score': 0.36187636852264404}]\n",
      "Results for 774.jpg: [{'label': 'Dog', 'score': 0.9991106390953064}, {'label': 'Cat', 'score': 0.0008893836056813598}]\n",
      "Results for 1229.jpg: [{'label': 'Dog', 'score': 0.9974328875541687}, {'label': 'Cat', 'score': 0.0025671781040728092}]\n",
      "Results for 1240.jpg: [{'label': 'Dog', 'score': 0.9984850287437439}, {'label': 'Cat', 'score': 0.0015149391256272793}]\n",
      "Results for 730.jpg: [{'label': 'Dog', 'score': 0.9952888488769531}, {'label': 'Cat', 'score': 0.00471120048314333}]\n",
      "Results for 1006.jpg: [{'label': 'Dog', 'score': 0.996850311756134}, {'label': 'Cat', 'score': 0.003149696160107851}]\n",
      "Results for 799.jpg: [{'label': 'Dog', 'score': 0.6749534010887146}, {'label': 'Cat', 'score': 0.3250465989112854}]\n",
      "Results for 902.jpg: [{'label': 'Dog', 'score': 0.70343416929245}, {'label': 'Cat', 'score': 0.29656580090522766}]\n",
      "Average confidence: 0.8909095159421364\n"
     ]
    }
   ],
   "source": [
    "evaluation_results = []\n",
    "sum_of_confidence = 0\n",
    "for file, result in zip(files, results):\n",
    "    print(f\"Results for {file}: {result}\")\n",
    "    evaluation_results.append(int(result[0][\"label\"] == \"Dog\"))\n",
    "    sum_of_confidence += result[0][\"score\"]\n",
    "print(f\"Average confidence: {sum_of_confidence/len(evaluation_results)}\")"
   ]
  },
  {
   "cell_type": "code",
   "execution_count": 42,
   "metadata": {},
   "outputs": [],
   "source": [
    "# Calculate the accuracy for cats and dogs\n",
    "def calculate_accuracy(results):\n",
    "    clf_metrics = evaluate.combine([\"accuracy\", \"f1\", \"precision\", \"recall\"])\n",
    "    for ref, pred in zip(results, [1 for _ in range(len(results))]):\n",
    "        clf_metrics.add(references=ref, predictions=pred)\n",
    "    return clf_metrics.compute()   "
   ]
  },
  {
   "cell_type": "code",
   "execution_count": 67,
   "metadata": {},
   "outputs": [
    {
     "data": {
      "text/plain": [
       "{'accuracy': 0.890625,\n",
       " 'f1': 0.9421487603305785,\n",
       " 'precision': 0.890625,\n",
       " 'recall': 1.0}"
      ]
     },
     "execution_count": 67,
     "metadata": {},
     "output_type": "execute_result"
    }
   ],
   "source": [
    "calculate_accuracy(evaluation_results)"
   ]
  },
  {
   "cell_type": "code",
   "execution_count": 27,
   "metadata": {},
   "outputs": [
    {
     "data": {
      "text/plain": [
       "[{'label': 'absent', 'score': 0.5122044682502747},\n",
       " {'label': 'present', 'score': 0.48779550194740295}]"
      ]
     },
     "execution_count": 27,
     "metadata": {},
     "output_type": "execute_result"
    }
   ],
   "source": [
    "# Prepare cluster models\n",
    "# imagenet-1k\n",
    "classifier = pipeline(model=\"JAW1453/swin-tiny-patch4-window7-224-DDD2\", device=0)\n",
    "classifier(test_img)\n",
    "\n",
    "classifier = pipeline(model=\"nicolasdupuisroy/vit-gabor-detection-v2\", device=0)\n",
    "classifier(test_img)"
   ]
  },
  {
   "cell_type": "code",
   "execution_count": 28,
   "metadata": {},
   "outputs": [
    {
     "name": "stderr",
     "output_type": "stream",
     "text": [
      "/opt/conda/lib/python3.11/site-packages/transformers/models/beit/feature_extraction_beit.py:28: FutureWarning: The class BeitFeatureExtractor is deprecated and will be removed in version 5 of Transformers. Please use BeitImageProcessor instead.\n",
      "  warnings.warn(\n"
     ]
    },
    {
     "data": {
      "text/plain": [
       "[{'label': 'None_seizures', 'score': 0.5324092507362366},\n",
       " {'label': 'Seizures', 'score': 0.46759071946144104}]"
      ]
     },
     "execution_count": 28,
     "metadata": {},
     "output_type": "execute_result"
    }
   ],
   "source": [
    "# imagenet-21k\n",
    "classifier = pipeline(model=\"alirzb/S1_M1_R1_beit_42507336\", device=0)\n",
    "classifier(test_img)"
   ]
  }
 ],
 "metadata": {
  "kernelspec": {
   "display_name": "base",
   "language": "python",
   "name": "python3"
  },
  "language_info": {
   "codemirror_mode": {
    "name": "ipython",
    "version": 3
   },
   "file_extension": ".py",
   "mimetype": "text/x-python",
   "name": "python",
   "nbconvert_exporter": "python",
   "pygments_lexer": "ipython3",
   "version": "3.11.9"
  }
 },
 "nbformat": 4,
 "nbformat_minor": 2
}
