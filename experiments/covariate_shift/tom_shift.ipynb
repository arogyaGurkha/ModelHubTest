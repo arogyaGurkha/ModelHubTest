{
 "cells": [
  {
   "cell_type": "code",
   "execution_count": 48,
   "metadata": {},
   "outputs": [
    {
     "data": {
      "text/plain": [
       "True"
      ]
     },
     "execution_count": 48,
     "metadata": {},
     "output_type": "execute_result"
    }
   ],
   "source": [
    "from transformers import pipeline\n",
    "import torch\n",
    "import pandas as pd\n",
    "from PIL import Image\n",
    "import os\n",
    "import evaluate\n",
    "import math\n",
    "\n",
    "\n",
    "torch.cuda.is_available()"
   ]
  },
  {
   "cell_type": "code",
   "execution_count": 75,
   "metadata": {},
   "outputs": [],
   "source": [
    "# Prepare input samples\n",
    "\n",
    "real_cat_dir = \"archive/CAT_04\"\n",
    "tom_dir = \"archive/tom_and_jerry/tom_and_jerry/tom\"\n",
    "real_dog_dir = \"archive/n02110063-malamute\"\n",
    "cartoon_dog_dir = \"archive/cartoon_dogs_val_images\"\n",
    "\n",
    "img_folder = real_dog_dir\n",
    "images = []\n",
    "files = []\n",
    "\n",
    "for file in os.listdir(img_folder):\n",
    "    try:\n",
    "        img_path = os.path.join(img_folder, file)\n",
    "        img = Image.open(img_path)\n",
    "        images.append(img)\n",
    "        files.append(file)\n",
    "    except IOError:\n",
    "        print(f\"Could not read image: {file}\")"
   ]
  },
  {
   "cell_type": "code",
   "execution_count": 76,
   "metadata": {},
   "outputs": [
    {
     "name": "stderr",
     "output_type": "stream",
     "text": [
      "Could not find image processor class in the image processor config or the model config. Loading based on pattern matching with the model's feature extractor configuration. Please open a PR/issue to update `preprocessor_config.json` to use `image_processor_type` instead of `feature_extractor_type`. This warning will be removed in v4.40.\n"
     ]
    }
   ],
   "source": [
    "# Prepare baseline models\n",
    "classifier = pipeline(model=\"nateraw/vit-base-cats-vs-dogs\",  device=0)\n",
    "\n",
    "results = classifier(images)"
   ]
  },
  {
   "cell_type": "code",
   "execution_count": 77,
   "metadata": {},
   "outputs": [
    {
     "name": "stdout",
     "output_type": "stream",
     "text": [
      "Results for n02110063_18412.jpg: [{'label': 'dog', 'score': 0.9970868229866028}, {'label': 'cat', 'score': 0.0029131530318409204}]\n",
      "Results for n02110063_5727.jpg: [{'label': 'dog', 'score': 0.9995123147964478}, {'label': 'cat', 'score': 0.00048766136751510203}]\n",
      "Results for n02110063_16966.jpg: [{'label': 'dog', 'score': 0.9970268607139587}, {'label': 'cat', 'score': 0.0029731944669038057}]\n",
      "Results for n02110063_938.jpg: [{'label': 'dog', 'score': 0.9994972944259644}, {'label': 'cat', 'score': 0.0005026537692174315}]\n",
      "Results for n02110063_18663.jpg: [{'label': 'dog', 'score': 0.998339056968689}, {'label': 'cat', 'score': 0.0016609432641416788}]\n",
      "Results for n02110063_16539.jpg: [{'label': 'dog', 'score': 0.99379563331604}, {'label': 'cat', 'score': 0.006204357370734215}]\n",
      "Results for n02110063_18782.jpg: [{'label': 'dog', 'score': 0.9994533658027649}, {'label': 'cat', 'score': 0.0005466475849971175}]\n",
      "Results for n02110063_11227.jpg: [{'label': 'dog', 'score': 0.9991238713264465}, {'label': 'cat', 'score': 0.0008760889177210629}]\n",
      "Results for n02110063_12843.jpg: [{'label': 'dog', 'score': 0.9992232322692871}, {'label': 'cat', 'score': 0.0007767106289975345}]\n",
      "Results for n02110063_8007.jpg: [{'label': 'dog', 'score': 0.9782376289367676}, {'label': 'cat', 'score': 0.021762311458587646}]\n",
      "Results for n02110063_16713.jpg: [{'label': 'dog', 'score': 0.9994804263114929}, {'label': 'cat', 'score': 0.0005195440026000142}]\n",
      "Results for n02110063_11585.jpg: [{'label': 'dog', 'score': 0.9994553923606873}, {'label': 'cat', 'score': 0.000544627895578742}]\n",
      "Results for n02110063_12597.jpg: [{'label': 'dog', 'score': 0.9993898868560791}, {'label': 'cat', 'score': 0.0006101360195316374}]\n",
      "Results for n02110063_3670.jpg: [{'label': 'dog', 'score': 0.99936443567276}, {'label': 'cat', 'score': 0.0006355755031108856}]\n",
      "Results for n02110063_19390.jpg: [{'label': 'dog', 'score': 0.9992228746414185}, {'label': 'cat', 'score': 0.0007771390373818576}]\n",
      "Results for n02110063_2390.jpg: [{'label': 'dog', 'score': 0.9992814660072327}, {'label': 'cat', 'score': 0.0007185677532106638}]\n",
      "Results for n02110063_17138.jpg: [{'label': 'dog', 'score': 0.9994369149208069}, {'label': 'cat', 'score': 0.0005630631931126118}]\n",
      "Results for n02110063_17622.jpg: [{'label': 'dog', 'score': 0.9994574189186096}, {'label': 'cat', 'score': 0.0005426091374829412}]\n",
      "Results for n02110063_13075.jpg: [{'label': 'dog', 'score': 0.9969819188117981}, {'label': 'cat', 'score': 0.0030180339235812426}]\n",
      "Results for n02110063_15160.jpg: [{'label': 'dog', 'score': 0.9994507431983948}, {'label': 'cat', 'score': 0.0005492255440913141}]\n",
      "Results for n02110063_4873.jpg: [{'label': 'dog', 'score': 0.9994481205940247}, {'label': 'cat', 'score': 0.0005518287071026862}]\n",
      "Results for n02110063_15949.jpg: [{'label': 'dog', 'score': 0.9994298815727234}, {'label': 'cat', 'score': 0.0005700545734725893}]\n",
      "Results for n02110063_7037.jpg: [{'label': 'dog', 'score': 0.9991253018379211}, {'label': 'cat', 'score': 0.0008746709791012108}]\n",
      "Results for n02110063_14434.jpg: [{'label': 'dog', 'score': 0.9992799162864685}, {'label': 'cat', 'score': 0.0007201583357527852}]\n",
      "Results for n02110063_2481.jpg: [{'label': 'dog', 'score': 0.9754737615585327}, {'label': 'cat', 'score': 0.024526258930563927}]\n",
      "Results for n02110063_13152.jpg: [{'label': 'dog', 'score': 0.8780674934387207}, {'label': 'cat', 'score': 0.1219325065612793}]\n",
      "Results for n02110063_12449.jpg: [{'label': 'dog', 'score': 0.9993952512741089}, {'label': 'cat', 'score': 0.0006046981434337795}]\n",
      "Results for n02110063_4432.jpg: [{'label': 'dog', 'score': 0.9995242357254028}, {'label': 'cat', 'score': 0.0004757286806125194}]\n",
      "Results for n02110063_17378.jpg: [{'label': 'dog', 'score': 0.9991745352745056}, {'label': 'cat', 'score': 0.0008254509884864092}]\n",
      "Results for n02110063_14381.jpg: [{'label': 'dog', 'score': 0.9993895292282104}, {'label': 'cat', 'score': 0.0006104341009631753}]\n",
      "Results for n02110063_11822.jpg: [{'label': 'dog', 'score': 0.9991955161094666}, {'label': 'cat', 'score': 0.0008044971618801355}]\n",
      "Results for n02110063_10025.jpg: [{'label': 'dog', 'score': 0.9805349707603455}, {'label': 'cat', 'score': 0.019465046003460884}]\n",
      "Results for n02110063_17446.jpg: [{'label': 'dog', 'score': 0.9993798732757568}, {'label': 'cat', 'score': 0.0006201140349730849}]\n",
      "Results for n02110063_14141.jpg: [{'label': 'dog', 'score': 0.9657923579216003}, {'label': 'cat', 'score': 0.03420760855078697}]\n",
      "Results for n02110063_17548.jpg: [{'label': 'dog', 'score': 0.995876133441925}, {'label': 'cat', 'score': 0.004123901482671499}]\n",
      "Results for n02110063_3722.jpg: [{'label': 'cat', 'score': 0.7700181007385254}, {'label': 'dog', 'score': 0.2299818992614746}]\n",
      "Results for n02110063_11709.jpg: [{'label': 'dog', 'score': 0.9992142915725708}, {'label': 'cat', 'score': 0.0007857225718908012}]\n",
      "Results for n02110063_17903.jpg: [{'label': 'dog', 'score': 0.9994124174118042}, {'label': 'cat', 'score': 0.0005876325885765254}]\n",
      "Results for n02110063_9259.jpg: [{'label': 'dog', 'score': 0.9995317459106445}, {'label': 'cat', 'score': 0.00046832786756567657}]\n",
      "Results for n02110063_9112.jpg: [{'label': 'dog', 'score': 0.9993316531181335}, {'label': 'cat', 'score': 0.0006683385581709445}]\n",
      "Results for n02110063_4629.jpg: [{'label': 'dog', 'score': 0.9993287324905396}, {'label': 'cat', 'score': 0.000671258254442364}]\n",
      "Results for n02110063_15332.jpg: [{'label': 'dog', 'score': 0.7187406420707703}, {'label': 'cat', 'score': 0.28125935792922974}]\n",
      "Results for n02110063_12139.jpg: [{'label': 'dog', 'score': 0.9991406202316284}, {'label': 'cat', 'score': 0.0008593045640736818}]\n",
      "Results for n02110063_15163.jpg: [{'label': 'dog', 'score': 0.9281138181686401}, {'label': 'cat', 'score': 0.07188618183135986}]\n",
      "Results for n02110063_11814.jpg: [{'label': 'dog', 'score': 0.9994888305664062}, {'label': 'cat', 'score': 0.0005111350910738111}]\n",
      "Results for n02110063_13962.jpg: [{'label': 'dog', 'score': 0.9985926747322083}, {'label': 'cat', 'score': 0.0014072953490540385}]\n",
      "Results for n02110063_16630.jpg: [{'label': 'dog', 'score': 0.9989563226699829}, {'label': 'cat', 'score': 0.0010436828015372157}]\n",
      "Results for n02110063_642.jpg: [{'label': 'dog', 'score': 0.9994325041770935}, {'label': 'cat', 'score': 0.0005674739368259907}]\n",
      "Results for n02110063_49.jpg: [{'label': 'dog', 'score': 0.9993021488189697}, {'label': 'cat', 'score': 0.0006978711462579668}]\n",
      "Results for n02110063_11892.jpg: [{'label': 'dog', 'score': 0.9993941783905029}, {'label': 'cat', 'score': 0.0006057583959773183}]\n",
      "Results for n02110063_7630.jpg: [{'label': 'dog', 'score': 0.9994613528251648}, {'label': 'cat', 'score': 0.0005386578268371522}]\n",
      "Results for n02110063_11756.jpg: [{'label': 'dog', 'score': 0.9994819760322571}, {'label': 'cat', 'score': 0.0005181123269721866}]\n",
      "Results for n02110063_1104.jpg: [{'label': 'dog', 'score': 0.9979021549224854}, {'label': 'cat', 'score': 0.002097789663821459}]\n",
      "Results for n02110063_9703.jpg: [{'label': 'dog', 'score': 0.9988802075386047}, {'label': 'cat', 'score': 0.001119778724387288}]\n",
      "Results for n02110063_9496.jpg: [{'label': 'dog', 'score': 0.9994825124740601}, {'label': 'cat', 'score': 0.0005174741381779313}]\n",
      "Results for n02110063_13550.jpg: [{'label': 'dog', 'score': 0.9987885355949402}, {'label': 'cat', 'score': 0.001211471389979124}]\n",
      "Results for n02110063_12694.jpg: [{'label': 'dog', 'score': 0.9994864463806152}, {'label': 'cat', 'score': 0.0005135632818564773}]\n",
      "Results for n02110063_17766.jpg: [{'label': 'dog', 'score': 0.9993670582771301}, {'label': 'cat', 'score': 0.0006329676834866405}]\n",
      "Results for n02110063_10768.jpg: [{'label': 'dog', 'score': 0.8873183131217957}, {'label': 'cat', 'score': 0.11268169432878494}]\n",
      "Results for n02110063_8359.jpg: [{'label': 'dog', 'score': 0.9523672461509705}, {'label': 'cat', 'score': 0.04763276129961014}]\n",
      "Results for n02110063_11668.jpg: [{'label': 'dog', 'score': 0.9994340538978577}, {'label': 'cat', 'score': 0.0005658907466568053}]\n",
      "Results for n02110063_13798.jpg: [{'label': 'dog', 'score': 0.9994914531707764}, {'label': 'cat', 'score': 0.0005085026496089995}]\n",
      "Results for n02110063_15727.jpg: [{'label': 'dog', 'score': 0.9983810186386108}, {'label': 'cat', 'score': 0.0016190375899896026}]\n",
      "Results for n02110063_10589.jpg: [{'label': 'dog', 'score': 0.9992122650146484}, {'label': 'cat', 'score': 0.0007877646712586284}]\n",
      "Results for n02110063_12447.jpg: [{'label': 'dog', 'score': 0.9994982481002808}, {'label': 'cat', 'score': 0.0005017963703721762}]\n",
      "Results for n02110063_11495.jpg: [{'label': 'dog', 'score': 0.9992939233779907}, {'label': 'cat', 'score': 0.0007060050265863538}]\n",
      "Results for n02110063_12269.jpg: [{'label': 'dog', 'score': 0.9995359182357788}, {'label': 'cat', 'score': 0.00046414672397077084}]\n",
      "Results for n02110063_17572.jpg: [{'label': 'dog', 'score': 0.9990615248680115}, {'label': 'cat', 'score': 0.0009385201847180724}]\n",
      "Results for n02110063_14491.jpg: [{'label': 'dog', 'score': 0.999478280544281}, {'label': 'cat', 'score': 0.000521755893714726}]\n",
      "Results for n02110063_17485.jpg: [{'label': 'dog', 'score': 0.9989959597587585}, {'label': 'cat', 'score': 0.0010040958877652884}]\n",
      "Results for n02110063_17073.jpg: [{'label': 'dog', 'score': 0.999459445476532}, {'label': 'cat', 'score': 0.0005406088312156498}]\n",
      "Results for n02110063_6458.jpg: [{'label': 'dog', 'score': 0.9976783394813538}, {'label': 'cat', 'score': 0.002321677515283227}]\n",
      "Results for n02110063_17962.jpg: [{'label': 'cat', 'score': 0.9870697259902954}, {'label': 'dog', 'score': 0.012930303812026978}]\n",
      "Results for n02110063_8757.jpg: [{'label': 'dog', 'score': 0.9948192238807678}, {'label': 'cat', 'score': 0.005180759355425835}]\n",
      "Results for n02110063_15580.jpg: [{'label': 'dog', 'score': 0.9985474944114685}, {'label': 'cat', 'score': 0.0014524242142215371}]\n",
      "Results for n02110063_14382.jpg: [{'label': 'cat', 'score': 0.9986975193023682}, {'label': 'dog', 'score': 0.0013024049112573266}]\n",
      "Results for n02110063_11887.jpg: [{'label': 'dog', 'score': 0.9992559552192688}, {'label': 'cat', 'score': 0.0007440658519044518}]\n",
      "Results for n02110063_3899.jpg: [{'label': 'dog', 'score': 0.9939853549003601}, {'label': 'cat', 'score': 0.006014634855091572}]\n",
      "Results for n02110063_5676.jpg: [{'label': 'dog', 'score': 0.9992879033088684}, {'label': 'cat', 'score': 0.0007121509988792241}]\n",
      "Results for n02110063_13625.jpg: [{'label': 'dog', 'score': 0.9994984865188599}, {'label': 'cat', 'score': 0.00050150923198089}]\n",
      "Results for n02110063_18750.jpg: [{'label': 'dog', 'score': 0.9994103908538818}, {'label': 'cat', 'score': 0.0005896068760193884}]\n",
      "Results for n02110063_8514.jpg: [{'label': 'dog', 'score': 0.9992615580558777}, {'label': 'cat', 'score': 0.0007384733180515468}]\n",
      "Results for n02110063_6636.jpg: [{'label': 'dog', 'score': 0.9985430240631104}, {'label': 'cat', 'score': 0.0014569401973858476}]\n",
      "Results for n02110063_12292.jpg: [{'label': 'cat', 'score': 0.8608441948890686}, {'label': 'dog', 'score': 0.1391558051109314}]\n",
      "Results for n02110063_17533.jpg: [{'label': 'dog', 'score': 0.8340391516685486}, {'label': 'cat', 'score': 0.16596083343029022}]\n",
      "Results for n02110063_14327.jpg: [{'label': 'dog', 'score': 0.9835174083709717}, {'label': 'cat', 'score': 0.01648261770606041}]\n",
      "Results for n02110063_16612.jpg: [{'label': 'dog', 'score': 0.9846022129058838}, {'label': 'cat', 'score': 0.015397731214761734}]\n",
      "Results for n02110063_14743.jpg: [{'label': 'dog', 'score': 0.9995521903038025}, {'label': 'cat', 'score': 0.0004478178161662072}]\n",
      "Results for n02110063_16696.jpg: [{'label': 'dog', 'score': 0.999112069606781}, {'label': 'cat', 'score': 0.000887917005456984}]\n",
      "Results for n02110063_15416.jpg: [{'label': 'dog', 'score': 0.9987547397613525}, {'label': 'cat', 'score': 0.001245225197635591}]\n",
      "Results for n02110063_7636.jpg: [{'label': 'dog', 'score': 0.9988111257553101}, {'label': 'cat', 'score': 0.001188834896311164}]\n",
      "Results for n02110063_17474.jpg: [{'label': 'dog', 'score': 0.9994816184043884}, {'label': 'cat', 'score': 0.0005184700130484998}]\n",
      "Results for n02110063_6174.jpg: [{'label': 'cat', 'score': 0.9800265431404114}, {'label': 'dog', 'score': 0.019973482936620712}]\n",
      "Results for n02110063_15481.jpg: [{'label': 'dog', 'score': 0.9993947744369507}, {'label': 'cat', 'score': 0.0006052398821339011}]\n",
      "Results for n02110063_5829.jpg: [{'label': 'dog', 'score': 0.8682065010070801}, {'label': 'cat', 'score': 0.13179349899291992}]\n",
      "Results for n02110063_11052.jpg: [{'label': 'dog', 'score': 0.9990900754928589}, {'label': 'cat', 'score': 0.0009099134476855397}]\n",
      "Results for n02110063_10785.jpg: [{'label': 'dog', 'score': 0.9992966651916504}, {'label': 'cat', 'score': 0.0007033380679786205}]\n",
      "Results for n02110063_12970.jpg: [{'label': 'dog', 'score': 0.9974810481071472}, {'label': 'cat', 'score': 0.0025189765729010105}]\n",
      "Results for n02110063_13541.jpg: [{'label': 'dog', 'score': 0.9995298385620117}, {'label': 'cat', 'score': 0.00047014429583214223}]\n",
      "Results for n02110063_11034.jpg: [{'label': 'dog', 'score': 0.9994893074035645}, {'label': 'cat', 'score': 0.0005106237949803472}]\n",
      "Results for n02110063_14425.jpg: [{'label': 'dog', 'score': 0.9986364245414734}, {'label': 'cat', 'score': 0.001363602583296597}]\n",
      "Results for n02110063_6746.jpg: [{'label': 'dog', 'score': 0.9994698166847229}, {'label': 'cat', 'score': 0.0005302383797243237}]\n",
      "Results for n02110063_97.jpg: [{'label': 'dog', 'score': 0.938517153263092}, {'label': 'cat', 'score': 0.06148285046219826}]\n",
      "Results for n02110063_5828.jpg: [{'label': 'dog', 'score': 0.9995290040969849}, {'label': 'cat', 'score': 0.00047106886631809175}]\n",
      "Results for n02110063_12656.jpg: [{'label': 'dog', 'score': 0.9766725301742554}, {'label': 'cat', 'score': 0.023327533155679703}]\n",
      "Results for n02110063_14591.jpg: [{'label': 'dog', 'score': 0.9994445443153381}, {'label': 'cat', 'score': 0.0005554971867240965}]\n",
      "Results for n02110063_18632.jpg: [{'label': 'dog', 'score': 0.9991669654846191}, {'label': 'cat', 'score': 0.0008330015698447824}]\n",
      "Results for n02110063_18538.jpg: [{'label': 'dog', 'score': 0.9974557757377625}, {'label': 'cat', 'score': 0.002544186543673277}]\n",
      "Results for n02110063_16533.jpg: [{'label': 'dog', 'score': 0.9992220401763916}, {'label': 'cat', 'score': 0.0007779625593684614}]\n",
      "Results for n02110063_17995.jpg: [{'label': 'dog', 'score': 0.9993793964385986}, {'label': 'cat', 'score': 0.0006206160178408027}]\n",
      "Results for n02110063_10965.jpg: [{'label': 'dog', 'score': 0.9993877410888672}, {'label': 'cat', 'score': 0.0006122981430962682}]\n",
      "Results for n02110063_16310.jpg: [{'label': 'dog', 'score': 0.9984239339828491}, {'label': 'cat', 'score': 0.001576086739078164}]\n",
      "Results for n02110063_8977.jpg: [{'label': 'dog', 'score': 0.9994993209838867}, {'label': 'cat', 'score': 0.0005006182473152876}]\n",
      "Results for n02110063_6508.jpg: [{'label': 'dog', 'score': 0.9986022114753723}, {'label': 'cat', 'score': 0.0013978279894217849}]\n",
      "Results for n02110063_16029.jpg: [{'label': 'dog', 'score': 0.9995446801185608}, {'label': 'cat', 'score': 0.0004552725004032254}]\n",
      "Results for n02110063_609.jpg: [{'label': 'dog', 'score': 0.9995049238204956}, {'label': 'cat', 'score': 0.0004950609873048961}]\n",
      "Results for n02110063_10567.jpg: [{'label': 'dog', 'score': 0.9994136095046997}, {'label': 'cat', 'score': 0.0005864487029612064}]\n",
      "Results for n02110063_3853.jpg: [{'label': 'dog', 'score': 0.9994800686836243}, {'label': 'cat', 'score': 0.0005199651350267231}]\n",
      "Results for n02110063_13228.jpg: [{'label': 'dog', 'score': 0.9993478655815125}, {'label': 'cat', 'score': 0.0006521781906485558}]\n",
      "Results for n02110063_899.jpg: [{'label': 'dog', 'score': 0.9994370341300964}, {'label': 'cat', 'score': 0.0005629671504721045}]\n",
      "Results for n02110063_8019.jpg: [{'label': 'dog', 'score': 0.9963273406028748}, {'label': 'cat', 'score': 0.003672646591439843}]\n",
      "Results for n02110063_6276.jpg: [{'label': 'dog', 'score': 0.9995208978652954}, {'label': 'cat', 'score': 0.0004790626699104905}]\n",
      "Results for n02110063_12514.jpg: [{'label': 'dog', 'score': 0.977920413017273}, {'label': 'cat', 'score': 0.022079559043049812}]\n",
      "Results for n02110063_14922.jpg: [{'label': 'dog', 'score': 0.8013942837715149}, {'label': 'cat', 'score': 0.1986057162284851}]\n",
      "Results for n02110063_7325.jpg: [{'label': 'cat', 'score': 0.8390759229660034}, {'label': 'dog', 'score': 0.16092409193515778}]\n",
      "Results for n02110063_16752.jpg: [{'label': 'dog', 'score': 0.9994127750396729}, {'label': 'cat', 'score': 0.0005872666952200234}]\n",
      "Results for n02110063_6083.jpg: [{'label': 'dog', 'score': 0.9994101524353027}, {'label': 'cat', 'score': 0.0005898251547478139}]\n",
      "Results for n02110063_1034.jpg: [{'label': 'dog', 'score': 0.9993332028388977}, {'label': 'cat', 'score': 0.0006667206762358546}]\n",
      "Results for n02110063_838.jpg: [{'label': 'dog', 'score': 0.9994576573371887}, {'label': 'cat', 'score': 0.0005423821858130395}]\n",
      "Results for n02110063_9360.jpg: [{'label': 'dog', 'score': 0.9994638562202454}, {'label': 'cat', 'score': 0.0005361668299883604}]\n",
      "Results for n02110063_798.jpg: [{'label': 'dog', 'score': 0.998920202255249}, {'label': 'cat', 'score': 0.001079831039533019}]\n",
      "Results for n02110063_11105.jpg: [{'label': 'cat', 'score': 0.7749627828598022}, {'label': 'dog', 'score': 0.22503720223903656}]\n",
      "Results for n02110063_566.jpg: [{'label': 'dog', 'score': 0.9995014667510986}, {'label': 'cat', 'score': 0.0004985356936231256}]\n",
      "Results for n02110063_4739.jpg: [{'label': 'dog', 'score': 0.998674750328064}, {'label': 'cat', 'score': 0.0013252545613795519}]\n",
      "Results for n02110063_8320.jpg: [{'label': 'dog', 'score': 0.9985344409942627}, {'label': 'cat', 'score': 0.001465597073547542}]\n",
      "Results for n02110063_16763.jpg: [{'label': 'dog', 'score': 0.999438464641571}, {'label': 'cat', 'score': 0.0005615116679109633}]\n",
      "Results for n02110063_14230.jpg: [{'label': 'dog', 'score': 0.9991763234138489}, {'label': 'cat', 'score': 0.0008236682624556124}]\n",
      "Results for n02110063_7198.jpg: [{'label': 'dog', 'score': 0.9994639754295349}, {'label': 'cat', 'score': 0.0005360410432331264}]\n",
      "Results for n02110063_13126.jpg: [{'label': 'dog', 'score': 0.972244143486023}, {'label': 'cat', 'score': 0.027755863964557648}]\n",
      "Results for n02110063_12632.jpg: [{'label': 'dog', 'score': 0.9993225336074829}, {'label': 'cat', 'score': 0.0006774837384000421}]\n",
      "Results for n02110063_1994.jpg: [{'label': 'dog', 'score': 0.9994049072265625}, {'label': 'cat', 'score': 0.0005951120401732624}]\n",
      "Results for n02110063_13837.jpg: [{'label': 'dog', 'score': 0.9990459084510803}, {'label': 'cat', 'score': 0.0009541006293147802}]\n",
      "Results for n02110063_12334.jpg: [{'label': 'dog', 'score': 0.9991869330406189}, {'label': 'cat', 'score': 0.0008130201604217291}]\n",
      "Results for n02110063_17917.jpg: [{'label': 'dog', 'score': 0.9991937279701233}, {'label': 'cat', 'score': 0.0008062380366027355}]\n",
      "Results for n02110063_9363.jpg: [{'label': 'dog', 'score': 0.9990869760513306}, {'label': 'cat', 'score': 0.0009130086400546134}]\n",
      "Results for n02110063_18180.jpg: [{'label': 'dog', 'score': 0.9969051480293274}, {'label': 'cat', 'score': 0.0030948456842452288}]\n",
      "Results for n02110063_12634.jpg: [{'label': 'dog', 'score': 0.9986751675605774}, {'label': 'cat', 'score': 0.0013248104369267821}]\n",
      "Results for n02110063_6391.jpg: [{'label': 'dog', 'score': 0.9995033740997314}, {'label': 'cat', 'score': 0.0004966458072885871}]\n",
      "Results for n02110063_650.jpg: [{'label': 'dog', 'score': 0.9992875456809998}, {'label': 'cat', 'score': 0.0007124999538064003}]\n",
      "Results for n02110063_14782.jpg: [{'label': 'dog', 'score': 0.9995261430740356}, {'label': 'cat', 'score': 0.0004738981369882822}]\n",
      "Results for n02110063_12326.jpg: [{'label': 'dog', 'score': 0.9986648559570312}, {'label': 'cat', 'score': 0.0013351452071219683}]\n",
      "Results for n02110063_1058.jpg: [{'label': 'dog', 'score': 0.9977467656135559}, {'label': 'cat', 'score': 0.002253178274258971}]\n",
      "Results for n02110063_1880.jpg: [{'label': 'dog', 'score': 0.9994015693664551}, {'label': 'cat', 'score': 0.0005984508898109198}]\n",
      "Results for n02110063_11838.jpg: [{'label': 'dog', 'score': 0.9991017580032349}, {'label': 'cat', 'score': 0.000898294965736568}]\n",
      "Results for n02110063_7911.jpg: [{'label': 'dog', 'score': 0.9993657469749451}, {'label': 'cat', 'score': 0.0006342968554235995}]\n",
      "Results for n02110063_13413.jpg: [{'label': 'dog', 'score': 0.9993744492530823}, {'label': 'cat', 'score': 0.0006255759508349001}]\n",
      "Results for n02110063_11106.jpg: [{'label': 'dog', 'score': 0.9992087483406067}, {'label': 'cat', 'score': 0.0007912592845968902}]\n",
      "Results for n02110063_2850.jpg: [{'label': 'dog', 'score': 0.9994489550590515}, {'label': 'cat', 'score': 0.0005510140326805413}]\n",
      "Results for n02110063_15327.jpg: [{'label': 'dog', 'score': 0.9993436932563782}, {'label': 'cat', 'score': 0.0006562501657754183}]\n",
      "Results for n02110063_11431.jpg: [{'label': 'dog', 'score': 0.9985355138778687}, {'label': 'cat', 'score': 0.0014645325718447566}]\n",
      "Results for n02110063_210.jpg: [{'label': 'cat', 'score': 0.9738532304763794}, {'label': 'dog', 'score': 0.026146842166781425}]\n",
      "Results for n02110063_1643.jpg: [{'label': 'dog', 'score': 0.9994202852249146}, {'label': 'cat', 'score': 0.0005796854384243488}]\n",
      "Results for n02110063_17936.jpg: [{'label': 'dog', 'score': 0.9993307590484619}, {'label': 'cat', 'score': 0.0006692244787700474}]\n",
      "Results for n02110063_540.jpg: [{'label': 'dog', 'score': 0.999114453792572}, {'label': 'cat', 'score': 0.0008855711785145104}]\n",
      "Results for n02110063_10751.jpg: [{'label': 'dog', 'score': 0.9988930821418762}, {'label': 'cat', 'score': 0.001106888521462679}]\n",
      "Results for n02110063_12330.jpg: [{'label': 'dog', 'score': 0.999110758304596}, {'label': 'cat', 'score': 0.0008892700425349176}]\n",
      "Results for n02110063_12294.jpg: [{'label': 'dog', 'score': 0.9993650317192078}, {'label': 'cat', 'score': 0.0006349912146106362}]\n",
      "Results for n02110063_17190.jpg: [{'label': 'dog', 'score': 0.9988617897033691}, {'label': 'cat', 'score': 0.0011382738593965769}]\n",
      "Results for n02110063_10787.jpg: [{'label': 'dog', 'score': 0.9982670545578003}, {'label': 'cat', 'score': 0.001732915872707963}]\n",
      "Results for n02110063_6518.jpg: [{'label': 'dog', 'score': 0.9994974136352539}, {'label': 'cat', 'score': 0.0005025891005061567}]\n",
      "Results for n02110063_1581.jpg: [{'label': 'dog', 'score': 0.9992586970329285}, {'label': 'cat', 'score': 0.0007413062849082053}]\n",
      "Results for n02110063_4302.jpg: [{'label': 'dog', 'score': 0.9994756579399109}, {'label': 'cat', 'score': 0.0005243433406576514}]\n",
      "Results for n02110063_15110.jpg: [{'label': 'dog', 'score': 0.9995276927947998}, {'label': 'cat', 'score': 0.0004723100282717496}]\n",
      "Results for n02110063_7810.jpg: [{'label': 'cat', 'score': 0.9941080808639526}, {'label': 'dog', 'score': 0.005891962442547083}]\n",
      "Results for n02110063_1791.jpg: [{'label': 'dog', 'score': 0.999283492565155}, {'label': 'cat', 'score': 0.0007165594142861664}]\n",
      "Results for n02110063_17656.jpg: [{'label': 'dog', 'score': 0.9994950294494629}, {'label': 'cat', 'score': 0.0005049974424764514}]\n",
      "Results for n02110063_11658.jpg: [{'label': 'dog', 'score': 0.9957399368286133}, {'label': 'cat', 'score': 0.004260057117789984}]\n",
      "Results for n02110063_9861.jpg: [{'label': 'dog', 'score': 0.9994274377822876}, {'label': 'cat', 'score': 0.000572614255361259}]\n",
      "Average confidence: 0.9866589542185322\n"
     ]
    }
   ],
   "source": [
    "evaluation_results = []\n",
    "sum_of_confidence = 0\n",
    "for file, result in zip(files, results):\n",
    "    print(f\"Results for {file}: {result}\")\n",
    "    evaluation_results.append(int(result[0][\"label\"] == \"dog\"))\n",
    "    sum_of_confidence += result[0][\"score\"]\n",
    "print(f\"Average confidence: {sum_of_confidence/len(evaluation_results)}\")"
   ]
  },
  {
   "cell_type": "code",
   "execution_count": 42,
   "metadata": {},
   "outputs": [],
   "source": [
    "# Calculate the accuracy for cats and dogs\n",
    "def calculate_accuracy(results):\n",
    "    clf_metrics = evaluate.combine([\"accuracy\", \"f1\", \"precision\", \"recall\"])\n",
    "    for ref, pred in zip(results, [1 for _ in range(len(results))]):\n",
    "        clf_metrics.add(references=ref, predictions=pred)\n",
    "    return clf_metrics.compute()   "
   ]
  },
  {
   "cell_type": "code",
   "execution_count": 78,
   "metadata": {},
   "outputs": [
    {
     "data": {
      "text/plain": [
       "{'accuracy': 0.949438202247191,\n",
       " 'f1': 0.9740634005763689,\n",
       " 'precision': 0.949438202247191,\n",
       " 'recall': 1.0}"
      ]
     },
     "execution_count": 78,
     "metadata": {},
     "output_type": "execute_result"
    }
   ],
   "source": [
    "calculate_accuracy(evaluation_results)"
   ]
  },
  {
   "cell_type": "code",
   "execution_count": 27,
   "metadata": {},
   "outputs": [
    {
     "data": {
      "text/plain": [
       "[{'label': 'absent', 'score': 0.5122044682502747},\n",
       " {'label': 'present', 'score': 0.48779550194740295}]"
      ]
     },
     "execution_count": 27,
     "metadata": {},
     "output_type": "execute_result"
    }
   ],
   "source": [
    "# Prepare cluster models\n",
    "# imagenet-1k\n",
    "classifier = pipeline(model=\"JAW1453/swin-tiny-patch4-window7-224-DDD2\", device=0)\n",
    "classifier(test_img)\n",
    "\n",
    "classifier = pipeline(model=\"nicolasdupuisroy/vit-gabor-detection-v2\", device=0)\n",
    "classifier(test_img)"
   ]
  },
  {
   "cell_type": "code",
   "execution_count": 28,
   "metadata": {},
   "outputs": [
    {
     "name": "stderr",
     "output_type": "stream",
     "text": [
      "/opt/conda/lib/python3.11/site-packages/transformers/models/beit/feature_extraction_beit.py:28: FutureWarning: The class BeitFeatureExtractor is deprecated and will be removed in version 5 of Transformers. Please use BeitImageProcessor instead.\n",
      "  warnings.warn(\n"
     ]
    },
    {
     "data": {
      "text/plain": [
       "[{'label': 'None_seizures', 'score': 0.5324092507362366},\n",
       " {'label': 'Seizures', 'score': 0.46759071946144104}]"
      ]
     },
     "execution_count": 28,
     "metadata": {},
     "output_type": "execute_result"
    }
   ],
   "source": [
    "# imagenet-21k\n",
    "classifier = pipeline(model=\"alirzb/S1_M1_R1_beit_42507336\", device=0)\n",
    "classifier(test_img)"
   ]
  }
 ],
 "metadata": {
  "kernelspec": {
   "display_name": "base",
   "language": "python",
   "name": "python3"
  },
  "language_info": {
   "codemirror_mode": {
    "name": "ipython",
    "version": 3
   },
   "file_extension": ".py",
   "mimetype": "text/x-python",
   "name": "python",
   "nbconvert_exporter": "python",
   "pygments_lexer": "ipython3",
   "version": "3.11.9"
  }
 },
 "nbformat": 4,
 "nbformat_minor": 2
}
