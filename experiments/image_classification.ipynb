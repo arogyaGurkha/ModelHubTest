{
 "cells": [
  {
   "cell_type": "code",
   "execution_count": 1,
   "metadata": {},
   "outputs": [],
   "source": [
    "from dotenv import dotenv_values\n",
    "import yaml\n",
    "import pandas as pd\n",
    "import re\n",
    "import pyarrow as pa\n",
    "\n",
    "hf_token = dotenv_values(\".env\")['HF_TOKEN']"
   ]
  },
  {
   "cell_type": "code",
   "execution_count": 2,
   "metadata": {},
   "outputs": [],
   "source": [
    "from huggingface_hub import HfApi, list_models, ModelCard, repo_exists, utils\n",
    "\n",
    "HF_HUB_DISABLE_PROGRESS_BARS=1\n",
    "# Configure a HfApi client\n",
    "hf_api = HfApi(\n",
    "    endpoint=\"https://huggingface.co\", # Can be a Private Hub endpoint.\n",
    "    token=hf_token, # Token is not persisted on the machine.\n",
    ")\n"
   ]
  },
  {
   "cell_type": "code",
   "execution_count": 3,
   "metadata": {},
   "outputs": [],
   "source": [
    "BASE_MODEL_PATTERN = re.compile(r\"fine-tuned version of \\[(.*?)\\]\")\n",
    "\n",
    "class BaseModelCache:\n",
    "    cache = {}\n",
    "\n",
    "    @staticmethod\n",
    "    def load(model_name):\n",
    "        if model_name not in BaseModelCache.cache:\n",
    "            try:\n",
    "                BaseModelCache.cache[model_name] = ModelCard.load(model_name, ignore_metadata_errors=True)\n",
    "            except utils.RepositoryNotFoundError:\n",
    "                print(\"Repository not found for: \" + model_name)\n",
    "                BaseModelCache.cache[model_name] = None\n",
    "            except utils.EntryNotFoundError:\n",
    "                print(\"README not found for: \" + model_name)\n",
    "                BaseModelCache.cache[model_name] = None\n",
    "        return BaseModelCache.cache[model_name]\n",
    "\n",
    "def get_base_model_dataset(model_name):\n",
    "    \"\"\"Retrieve dataset information for a base model.\"\"\"\n",
    "    if model_name:\n",
    "        info = BaseModelCache.load(model_name)\n",
    "        if info:\n",
    "            return info.data.get(\"datasets\")\n",
    "    return None\n",
    "\n",
    "def extract_base_model(name, card_data):\n",
    "    \"\"\"Extract base model info\"\"\"\n",
    "    base_model = card_data.get(\"base_model\")\n",
    "    if not base_model:\n",
    "        info = BaseModelCache.load(name)\n",
    "        match = BASE_MODEL_PATTERN.search(info.text)\n",
    "        base_model = match.group(1) if match else None\n",
    "    return base_model\n",
    "\n",
    "def extract_base_model_datasets(name, card_data):\n",
    "    \"\"\"Extract datasets for the base model.\"\"\"\n",
    "    base_model = extract_base_model(name, card_data)\n",
    "    datasets = get_base_model_dataset(base_model)\n",
    "    print(f\"Base model datasets for {name}: {datasets}\")\n",
    "    return datasets\n",
    "\n",
    "def extract_accuracy(results):\n",
    "    for result in results:\n",
    "        for metric in result.get(\"metrics\", []):\n",
    "            if metric.get(\"type\") == \"accuracy\":\n",
    "                accuracy_value = metric.get(\"value\")\n",
    "                if isinstance(accuracy_value, list) and accuracy_value:\n",
    "                    return float(accuracy_value[0])\n",
    "                elif isinstance(accuracy_value, (float, int)):\n",
    "                    return float(accuracy_value)\n",
    "    return 0.0\n",
    "\n",
    "def extract_dataset(name, card_data, results):\n",
    "    for result in results:\n",
    "        dataset = result.get(\"dataset\")\n",
    "        current_dataset = dataset.get(\"name\")\n",
    "        if current_dataset in [\"imagefolder\", \"image_folder\"]:\n",
    "            datasets = extract_base_model_datasets(name, card_data) or []\n",
    "            return [current_dataset, *datasets]\n",
    "        else:\n",
    "            return [current_dataset]\n",
    "    return None\n",
    "\n",
    "\n",
    "def is_valid_card_data(model, card_data):\n",
    "    name = model.id\n",
    "    necessary_keys = [\"task\", \"dataset\", \"metrics\"]\n",
    "    model_index = card_data.get(\"model-index\", [])\n",
    "    if not model_index:\n",
    "        return False, None, None, None\n",
    "\n",
    "    for entry in model_index:\n",
    "        results = entry.get(\"results\", [])\n",
    "        if not results:\n",
    "            return False, None, None, None\n",
    "        for result in results:\n",
    "            if not all(key in result for key in necessary_keys):\n",
    "                return False, None, None, None\n",
    "    return True, extract_accuracy(results), extract_dataset(name, card_data, results), extract_base_model(name, card_data)\n"
   ]
  },
  {
   "cell_type": "code",
   "execution_count": 4,
   "metadata": {},
   "outputs": [
    {
     "data": {
      "application/vnd.jupyter.widget-view+json": {
       "model_id": "999429d339fd4337a1c76b28d2c46a3c",
       "version_major": 2,
       "version_minor": 0
      },
      "text/plain": [
       "README.md:   0%|          | 0.00/1.92k [00:00<?, ?B/s]"
      ]
     },
     "metadata": {},
     "output_type": "display_data"
    },
    {
     "data": {
      "application/vnd.jupyter.widget-view+json": {
       "model_id": "d8147770989e439dbe79e1c2f0146434",
       "version_major": 2,
       "version_minor": 0
      },
      "text/plain": [
       "README.md:   0%|          | 0.00/1.91k [00:00<?, ?B/s]"
      ]
     },
     "metadata": {},
     "output_type": "display_data"
    },
    {
     "data": {
      "application/vnd.jupyter.widget-view+json": {
       "model_id": "606cc56269224aeb9b0ee83701f288b4",
       "version_major": 2,
       "version_minor": 0
      },
      "text/plain": [
       "README.md:   0%|          | 0.00/2.08k [00:00<?, ?B/s]"
      ]
     },
     "metadata": {},
     "output_type": "display_data"
    },
    {
     "data": {
      "application/vnd.jupyter.widget-view+json": {
       "model_id": "e1c549d9abba469c9018a628a96b7a00",
       "version_major": 2,
       "version_minor": 0
      },
      "text/plain": [
       "README.md:   0%|          | 0.00/2.08k [00:00<?, ?B/s]"
      ]
     },
     "metadata": {},
     "output_type": "display_data"
    },
    {
     "data": {
      "application/vnd.jupyter.widget-view+json": {
       "model_id": "3e7dd6ad5cd54442bc3e232740be0fda",
       "version_major": 2,
       "version_minor": 0
      },
      "text/plain": [
       "README.md:   0%|          | 0.00/2.08k [00:00<?, ?B/s]"
      ]
     },
     "metadata": {},
     "output_type": "display_data"
    },
    {
     "data": {
      "application/vnd.jupyter.widget-view+json": {
       "model_id": "18dd4e4fea584710a96bacdaea4167a6",
       "version_major": 2,
       "version_minor": 0
      },
      "text/plain": [
       "README.md:   0%|          | 0.00/2.04k [00:00<?, ?B/s]"
      ]
     },
     "metadata": {},
     "output_type": "display_data"
    },
    {
     "data": {
      "application/vnd.jupyter.widget-view+json": {
       "model_id": "bdc0582837c24cfeaedf4a4b36e0ba2f",
       "version_major": 2,
       "version_minor": 0
      },
      "text/plain": [
       "README.md:   0%|          | 0.00/2.04k [00:00<?, ?B/s]"
      ]
     },
     "metadata": {},
     "output_type": "display_data"
    },
    {
     "data": {
      "application/vnd.jupyter.widget-view+json": {
       "model_id": "fa72c0444eb44347afdeb7ac4b1e9dba",
       "version_major": 2,
       "version_minor": 0
      },
      "text/plain": [
       "README.md:   0%|          | 0.00/2.04k [00:00<?, ?B/s]"
      ]
     },
     "metadata": {},
     "output_type": "display_data"
    },
    {
     "name": "stderr",
     "output_type": "stream",
     "text": [
      "Invalid model-index. Not loading eval results into CardData.\n"
     ]
    },
    {
     "data": {
      "application/vnd.jupyter.widget-view+json": {
       "model_id": "9c1c885d0fac4b27a349828588b4b418",
       "version_major": 2,
       "version_minor": 0
      },
      "text/plain": [
       "README.md:   0%|          | 0.00/1.83k [00:00<?, ?B/s]"
      ]
     },
     "metadata": {},
     "output_type": "display_data"
    },
    {
     "data": {
      "application/vnd.jupyter.widget-view+json": {
       "model_id": "ce9479755d924c5fb77164061eddb968",
       "version_major": 2,
       "version_minor": 0
      },
      "text/plain": [
       "README.md:   0%|          | 0.00/1.83k [00:00<?, ?B/s]"
      ]
     },
     "metadata": {},
     "output_type": "display_data"
    },
    {
     "data": {
      "application/vnd.jupyter.widget-view+json": {
       "model_id": "21ab2fe246364a06855cb0275de4983f",
       "version_major": 2,
       "version_minor": 0
      },
      "text/plain": [
       "README.md:   0%|          | 0.00/1.83k [00:00<?, ?B/s]"
      ]
     },
     "metadata": {},
     "output_type": "display_data"
    },
    {
     "name": "stderr",
     "output_type": "stream",
     "text": [
      "Invalid model-index. Not loading eval results into CardData.\n",
      "Invalid model-index. Not loading eval results into CardData.\n",
      "Invalid model-index. Not loading eval results into CardData.\n",
      "Invalid model-index. Not loading eval results into CardData.\n",
      "Invalid model-index. Not loading eval results into CardData.\n"
     ]
    },
    {
     "data": {
      "application/vnd.jupyter.widget-view+json": {
       "model_id": "ea4ab1e37d374bf8ae9991341b6c68ab",
       "version_major": 2,
       "version_minor": 0
      },
      "text/plain": [
       "README.md:   0%|          | 0.00/1.86k [00:00<?, ?B/s]"
      ]
     },
     "metadata": {},
     "output_type": "display_data"
    },
    {
     "data": {
      "application/vnd.jupyter.widget-view+json": {
       "model_id": "93891c223c1e4dddbf89917518a214c8",
       "version_major": 2,
       "version_minor": 0
      },
      "text/plain": [
       "README.md:   0%|          | 0.00/1.86k [00:00<?, ?B/s]"
      ]
     },
     "metadata": {},
     "output_type": "display_data"
    },
    {
     "data": {
      "application/vnd.jupyter.widget-view+json": {
       "model_id": "1ccde2df24334d8787d9a78048679fa0",
       "version_major": 2,
       "version_minor": 0
      },
      "text/plain": [
       "README.md:   0%|          | 0.00/1.86k [00:00<?, ?B/s]"
      ]
     },
     "metadata": {},
     "output_type": "display_data"
    },
    {
     "data": {
      "application/vnd.jupyter.widget-view+json": {
       "model_id": "e7429077c4064750872631e38fb3bf54",
       "version_major": 2,
       "version_minor": 0
      },
      "text/plain": [
       "README.md:   0%|          | 0.00/1.83k [00:00<?, ?B/s]"
      ]
     },
     "metadata": {},
     "output_type": "display_data"
    },
    {
     "data": {
      "application/vnd.jupyter.widget-view+json": {
       "model_id": "d7ff7a7740bc4e5989a5c1f455c0dddf",
       "version_major": 2,
       "version_minor": 0
      },
      "text/plain": [
       "README.md:   0%|          | 0.00/1.83k [00:00<?, ?B/s]"
      ]
     },
     "metadata": {},
     "output_type": "display_data"
    },
    {
     "data": {
      "application/vnd.jupyter.widget-view+json": {
       "model_id": "533d8f4d18f843188d4822a243ca68ac",
       "version_major": 2,
       "version_minor": 0
      },
      "text/plain": [
       "README.md:   0%|          | 0.00/1.83k [00:00<?, ?B/s]"
      ]
     },
     "metadata": {},
     "output_type": "display_data"
    },
    {
     "data": {
      "application/vnd.jupyter.widget-view+json": {
       "model_id": "a4ba44bf7ce540e8bf3bfb6493267808",
       "version_major": 2,
       "version_minor": 0
      },
      "text/plain": [
       "README.md:   0%|          | 0.00/1.80k [00:00<?, ?B/s]"
      ]
     },
     "metadata": {},
     "output_type": "display_data"
    },
    {
     "data": {
      "application/vnd.jupyter.widget-view+json": {
       "model_id": "cab7532cd8b54b419f0f4ea4015a2c9b",
       "version_major": 2,
       "version_minor": 0
      },
      "text/plain": [
       "README.md:   0%|          | 0.00/1.80k [00:00<?, ?B/s]"
      ]
     },
     "metadata": {},
     "output_type": "display_data"
    },
    {
     "data": {
      "application/vnd.jupyter.widget-view+json": {
       "model_id": "259b225992454d0f9f1a01d9db339ec8",
       "version_major": 2,
       "version_minor": 0
      },
      "text/plain": [
       "README.md:   0%|          | 0.00/1.80k [00:00<?, ?B/s]"
      ]
     },
     "metadata": {},
     "output_type": "display_data"
    },
    {
     "data": {
      "application/vnd.jupyter.widget-view+json": {
       "model_id": "326e18170bc94d6cbf6c0a21a6ec25db",
       "version_major": 2,
       "version_minor": 0
      },
      "text/plain": [
       "README.md:   0%|          | 0.00/1.85k [00:00<?, ?B/s]"
      ]
     },
     "metadata": {},
     "output_type": "display_data"
    },
    {
     "data": {
      "application/vnd.jupyter.widget-view+json": {
       "model_id": "770b8784c29840c2a8efe163dddccc06",
       "version_major": 2,
       "version_minor": 0
      },
      "text/plain": [
       "README.md:   0%|          | 0.00/1.85k [00:00<?, ?B/s]"
      ]
     },
     "metadata": {},
     "output_type": "display_data"
    },
    {
     "data": {
      "application/vnd.jupyter.widget-view+json": {
       "model_id": "8b903c6ccfb145e6a27efbe6d094d07d",
       "version_major": 2,
       "version_minor": 0
      },
      "text/plain": [
       "README.md:   0%|          | 0.00/1.85k [00:00<?, ?B/s]"
      ]
     },
     "metadata": {},
     "output_type": "display_data"
    },
    {
     "data": {
      "application/vnd.jupyter.widget-view+json": {
       "model_id": "81eb0850bb074bcaa5eb335ef13f4784",
       "version_major": 2,
       "version_minor": 0
      },
      "text/plain": [
       "README.md:   0%|          | 0.00/1.77k [00:00<?, ?B/s]"
      ]
     },
     "metadata": {},
     "output_type": "display_data"
    },
    {
     "data": {
      "application/vnd.jupyter.widget-view+json": {
       "model_id": "96c488142e384695961ea576435ca4eb",
       "version_major": 2,
       "version_minor": 0
      },
      "text/plain": [
       "README.md:   0%|          | 0.00/1.77k [00:00<?, ?B/s]"
      ]
     },
     "metadata": {},
     "output_type": "display_data"
    },
    {
     "data": {
      "application/vnd.jupyter.widget-view+json": {
       "model_id": "665e816f3a7c45cc9015a6573dc1d531",
       "version_major": 2,
       "version_minor": 0
      },
      "text/plain": [
       "README.md:   0%|          | 0.00/1.77k [00:00<?, ?B/s]"
      ]
     },
     "metadata": {},
     "output_type": "display_data"
    },
    {
     "data": {
      "application/vnd.jupyter.widget-view+json": {
       "model_id": "96ac9fd9d17243dbaa240c9294b81b0c",
       "version_major": 2,
       "version_minor": 0
      },
      "text/plain": [
       "README.md:   0%|          | 0.00/1.81k [00:00<?, ?B/s]"
      ]
     },
     "metadata": {},
     "output_type": "display_data"
    },
    {
     "data": {
      "application/vnd.jupyter.widget-view+json": {
       "model_id": "bf541ba929ac4efc9253e67d8f3b95fa",
       "version_major": 2,
       "version_minor": 0
      },
      "text/plain": [
       "README.md:   0%|          | 0.00/1.81k [00:00<?, ?B/s]"
      ]
     },
     "metadata": {},
     "output_type": "display_data"
    },
    {
     "data": {
      "application/vnd.jupyter.widget-view+json": {
       "model_id": "ab9385805c5c47558b1a0ebd00814294",
       "version_major": 2,
       "version_minor": 0
      },
      "text/plain": [
       "README.md:   0%|          | 0.00/1.98k [00:00<?, ?B/s]"
      ]
     },
     "metadata": {},
     "output_type": "display_data"
    },
    {
     "data": {
      "application/vnd.jupyter.widget-view+json": {
       "model_id": "12d4f4d4d1cc42eda0f2c7f10b1690ef",
       "version_major": 2,
       "version_minor": 0
      },
      "text/plain": [
       "README.md:   0%|          | 0.00/1.98k [00:00<?, ?B/s]"
      ]
     },
     "metadata": {},
     "output_type": "display_data"
    },
    {
     "data": {
      "application/vnd.jupyter.widget-view+json": {
       "model_id": "a4322e8c8fe34ff0a7601aaf2bf8d9db",
       "version_major": 2,
       "version_minor": 0
      },
      "text/plain": [
       "README.md:   0%|          | 0.00/1.98k [00:00<?, ?B/s]"
      ]
     },
     "metadata": {},
     "output_type": "display_data"
    },
    {
     "data": {
      "application/vnd.jupyter.widget-view+json": {
       "model_id": "fafe83076db745f9a9b1f2e8720d0b4c",
       "version_major": 2,
       "version_minor": 0
      },
      "text/plain": [
       "README.md:   0%|          | 0.00/1.88k [00:00<?, ?B/s]"
      ]
     },
     "metadata": {},
     "output_type": "display_data"
    },
    {
     "data": {
      "application/vnd.jupyter.widget-view+json": {
       "model_id": "ba9e7269043449ee97f108510789b9fd",
       "version_major": 2,
       "version_minor": 0
      },
      "text/plain": [
       "README.md:   0%|          | 0.00/1.88k [00:00<?, ?B/s]"
      ]
     },
     "metadata": {},
     "output_type": "display_data"
    },
    {
     "data": {
      "application/vnd.jupyter.widget-view+json": {
       "model_id": "fc6a4a24c2e74c60ab075b7a340728d5",
       "version_major": 2,
       "version_minor": 0
      },
      "text/plain": [
       "README.md:   0%|          | 0.00/1.81k [00:00<?, ?B/s]"
      ]
     },
     "metadata": {},
     "output_type": "display_data"
    },
    {
     "data": {
      "application/vnd.jupyter.widget-view+json": {
       "model_id": "88a1d768a25a402484bb927a4564f31f",
       "version_major": 2,
       "version_minor": 0
      },
      "text/plain": [
       "README.md:   0%|          | 0.00/1.88k [00:00<?, ?B/s]"
      ]
     },
     "metadata": {},
     "output_type": "display_data"
    },
    {
     "name": "stderr",
     "output_type": "stream",
     "text": [
      "Invalid model-index. Not loading eval results into CardData.\n",
      "Invalid model-index. Not loading eval results into CardData.\n",
      "Invalid model-index. Not loading eval results into CardData.\n",
      "Invalid model-index. Not loading eval results into CardData.\n",
      "Invalid model-index. Not loading eval results into CardData.\n",
      "Invalid model-index. Not loading eval results into CardData.\n"
     ]
    },
    {
     "data": {
      "application/vnd.jupyter.widget-view+json": {
       "model_id": "90c44332d8ad4504803757c0a9ede6a3",
       "version_major": 2,
       "version_minor": 0
      },
      "text/plain": [
       "README.md:   0%|          | 0.00/1.92k [00:00<?, ?B/s]"
      ]
     },
     "metadata": {},
     "output_type": "display_data"
    },
    {
     "name": "stderr",
     "output_type": "stream",
     "text": [
      "Invalid model-index. Not loading eval results into CardData.\n",
      "Invalid model-index. Not loading eval results into CardData.\n"
     ]
    },
    {
     "data": {
      "application/vnd.jupyter.widget-view+json": {
       "model_id": "695bbb2b54de4eb3b853c98f0777551d",
       "version_major": 2,
       "version_minor": 0
      },
      "text/plain": [
       "README.md:   0%|          | 0.00/1.45k [00:00<?, ?B/s]"
      ]
     },
     "metadata": {},
     "output_type": "display_data"
    },
    {
     "name": "stderr",
     "output_type": "stream",
     "text": [
      "Invalid model-index. Not loading eval results into CardData.\n",
      "Invalid model-index. Not loading eval results into CardData.\n",
      "Invalid model-index. Not loading eval results into CardData.\n",
      "Invalid model-index. Not loading eval results into CardData.\n",
      "Invalid model-index. Not loading eval results into CardData.\n",
      "Invalid model-index. Not loading eval results into CardData.\n"
     ]
    },
    {
     "data": {
      "application/vnd.jupyter.widget-view+json": {
       "model_id": "f8b31179524d4944aa7f16d249522080",
       "version_major": 2,
       "version_minor": 0
      },
      "text/plain": [
       "README.md:   0%|          | 0.00/2.17k [00:00<?, ?B/s]"
      ]
     },
     "metadata": {},
     "output_type": "display_data"
    },
    {
     "name": "stderr",
     "output_type": "stream",
     "text": [
      "Invalid model-index. Not loading eval results into CardData.\n",
      "Invalid model-index. Not loading eval results into CardData.\n",
      "Invalid model-index. Not loading eval results into CardData.\n",
      "Invalid model-index. Not loading eval results into CardData.\n",
      "Invalid model-index. Not loading eval results into CardData.\n",
      "Invalid model-index. Not loading eval results into CardData.\n",
      "Invalid model-index. Not loading eval results into CardData.\n",
      "Invalid model-index. Not loading eval results into CardData.\n",
      "Invalid model-index. Not loading eval results into CardData.\n",
      "Invalid model-index. Not loading eval results into CardData.\n",
      "Invalid model-index. Not loading eval results into CardData.\n",
      "Invalid model-index. Not loading eval results into CardData.\n",
      "Invalid model-index. Not loading eval results into CardData.\n"
     ]
    },
    {
     "data": {
      "application/vnd.jupyter.widget-view+json": {
       "model_id": "8ddc41f28fd04a63820f3992808cbd89",
       "version_major": 2,
       "version_minor": 0
      },
      "text/plain": [
       "README.md:   0%|          | 0.00/2.08k [00:00<?, ?B/s]"
      ]
     },
     "metadata": {},
     "output_type": "display_data"
    },
    {
     "data": {
      "application/vnd.jupyter.widget-view+json": {
       "model_id": "114a24033ff14367ab17efcd98ee922a",
       "version_major": 2,
       "version_minor": 0
      },
      "text/plain": [
       "README.md:   0%|          | 0.00/2.08k [00:00<?, ?B/s]"
      ]
     },
     "metadata": {},
     "output_type": "display_data"
    },
    {
     "name": "stderr",
     "output_type": "stream",
     "text": [
      "Invalid model-index. Not loading eval results into CardData.\n",
      "Invalid model-index. Not loading eval results into CardData.\n",
      "Invalid model-index. Not loading eval results into CardData.\n",
      "Invalid model-index. Not loading eval results into CardData.\n",
      "Invalid model-index. Not loading eval results into CardData.\n",
      "Invalid model-index. Not loading eval results into CardData.\n",
      "Invalid model-index. Not loading eval results into CardData.\n",
      "Invalid model-index. Not loading eval results into CardData.\n",
      "Invalid model-index. Not loading eval results into CardData.\n",
      "Invalid model-index. Not loading eval results into CardData.\n",
      "Invalid model-index. Not loading eval results into CardData.\n",
      "Invalid model-index. Not loading eval results into CardData.\n",
      "Invalid model-index. Not loading eval results into CardData.\n",
      "Invalid model-index. Not loading eval results into CardData.\n",
      "Invalid model-index. Not loading eval results into CardData.\n"
     ]
    },
    {
     "data": {
      "application/vnd.jupyter.widget-view+json": {
       "model_id": "4028475649c944fc842d1b35b49719b1",
       "version_major": 2,
       "version_minor": 0
      },
      "text/plain": [
       "README.md:   0%|          | 0.00/1.72k [00:00<?, ?B/s]"
      ]
     },
     "metadata": {},
     "output_type": "display_data"
    },
    {
     "data": {
      "application/vnd.jupyter.widget-view+json": {
       "model_id": "12e0019d2c13485ea3675752a4ed7cc5",
       "version_major": 2,
       "version_minor": 0
      },
      "text/plain": [
       "README.md:   0%|          | 0.00/1.91k [00:00<?, ?B/s]"
      ]
     },
     "metadata": {},
     "output_type": "display_data"
    },
    {
     "data": {
      "application/vnd.jupyter.widget-view+json": {
       "model_id": "4706c3b92efd4c70b24064821750352f",
       "version_major": 2,
       "version_minor": 0
      },
      "text/plain": [
       "README.md:   0%|          | 0.00/1.95k [00:00<?, ?B/s]"
      ]
     },
     "metadata": {},
     "output_type": "display_data"
    },
    {
     "name": "stderr",
     "output_type": "stream",
     "text": [
      "Invalid model-index. Not loading eval results into CardData.\n"
     ]
    },
    {
     "data": {
      "application/vnd.jupyter.widget-view+json": {
       "model_id": "580a2f71f6f6445db3358ebb5f25ecd3",
       "version_major": 2,
       "version_minor": 0
      },
      "text/plain": [
       "README.md:   0%|          | 0.00/2.01k [00:00<?, ?B/s]"
      ]
     },
     "metadata": {},
     "output_type": "display_data"
    },
    {
     "name": "stderr",
     "output_type": "stream",
     "text": [
      "Invalid model-index. Not loading eval results into CardData.\n",
      "Invalid model-index. Not loading eval results into CardData.\n"
     ]
    },
    {
     "data": {
      "application/vnd.jupyter.widget-view+json": {
       "model_id": "5f0120b663444fb29a9db8db4f088f03",
       "version_major": 2,
       "version_minor": 0
      },
      "text/plain": [
       "README.md:   0%|          | 0.00/2.01k [00:00<?, ?B/s]"
      ]
     },
     "metadata": {},
     "output_type": "display_data"
    },
    {
     "data": {
      "application/vnd.jupyter.widget-view+json": {
       "model_id": "ce3bc1fa4a214f21bb8fb18d9cffe985",
       "version_major": 2,
       "version_minor": 0
      },
      "text/plain": [
       "README.md:   0%|          | 0.00/2.01k [00:00<?, ?B/s]"
      ]
     },
     "metadata": {},
     "output_type": "display_data"
    },
    {
     "data": {
      "application/vnd.jupyter.widget-view+json": {
       "model_id": "8d2a2c78c7714efd82ea523b83cb5a7e",
       "version_major": 2,
       "version_minor": 0
      },
      "text/plain": [
       "README.md:   0%|          | 0.00/2.03k [00:00<?, ?B/s]"
      ]
     },
     "metadata": {},
     "output_type": "display_data"
    },
    {
     "data": {
      "application/vnd.jupyter.widget-view+json": {
       "model_id": "baf894848dc8423e82636ed33a0b9560",
       "version_major": 2,
       "version_minor": 0
      },
      "text/plain": [
       "README.md:   0%|          | 0.00/2.04k [00:00<?, ?B/s]"
      ]
     },
     "metadata": {},
     "output_type": "display_data"
    },
    {
     "data": {
      "application/vnd.jupyter.widget-view+json": {
       "model_id": "8d5584ea234f45dfaa8bbeb8f46a13b7",
       "version_major": 2,
       "version_minor": 0
      },
      "text/plain": [
       "README.md:   0%|          | 0.00/1.71k [00:00<?, ?B/s]"
      ]
     },
     "metadata": {},
     "output_type": "display_data"
    },
    {
     "data": {
      "application/vnd.jupyter.widget-view+json": {
       "model_id": "0382e798846f4b0299325be27618e5bd",
       "version_major": 2,
       "version_minor": 0
      },
      "text/plain": [
       "README.md:   0%|          | 0.00/2.05k [00:00<?, ?B/s]"
      ]
     },
     "metadata": {},
     "output_type": "display_data"
    },
    {
     "data": {
      "application/vnd.jupyter.widget-view+json": {
       "model_id": "0969f36877fc4832abe8752d266f5445",
       "version_major": 2,
       "version_minor": 0
      },
      "text/plain": [
       "README.md:   0%|          | 0.00/1.63k [00:00<?, ?B/s]"
      ]
     },
     "metadata": {},
     "output_type": "display_data"
    },
    {
     "data": {
      "application/vnd.jupyter.widget-view+json": {
       "model_id": "fdae49f4ef44497aaa5c980a693a4b39",
       "version_major": 2,
       "version_minor": 0
      },
      "text/plain": [
       "README.md:   0%|          | 0.00/1.65k [00:00<?, ?B/s]"
      ]
     },
     "metadata": {},
     "output_type": "display_data"
    },
    {
     "data": {
      "text/html": [
       "<div>\n",
       "<style scoped>\n",
       "    .dataframe tbody tr th:only-of-type {\n",
       "        vertical-align: middle;\n",
       "    }\n",
       "\n",
       "    .dataframe tbody tr th {\n",
       "        vertical-align: top;\n",
       "    }\n",
       "\n",
       "    .dataframe thead th {\n",
       "        text-align: right;\n",
       "    }\n",
       "</style>\n",
       "<table border=\"1\" class=\"dataframe\">\n",
       "  <thead>\n",
       "    <tr style=\"text-align: right;\">\n",
       "      <th></th>\n",
       "      <th>model</th>\n",
       "      <th>accuracy</th>\n",
       "      <th>dataset</th>\n",
       "      <th>base_model</th>\n",
       "      <th>likes</th>\n",
       "      <th>downloads</th>\n",
       "    </tr>\n",
       "  </thead>\n",
       "  <tbody>\n",
       "    <tr>\n",
       "      <th>3</th>\n",
       "      <td>Narsil/layoutlmv3-finetuned-funsd</td>\n",
       "      <td>0.833027</td>\n",
       "      <td>[nielsr/funsd-layoutlmv3]</td>\n",
       "      <td>microsoft/layoutlmv3-base</td>\n",
       "      <td>0</td>\n",
       "      <td>621</td>\n",
       "    </tr>\n",
       "    <tr>\n",
       "      <th>61</th>\n",
       "      <td>keremberke/yolov8s-protective-equipment-detection</td>\n",
       "      <td>0.000000</td>\n",
       "      <td>[protective-equipment-detection]</td>\n",
       "      <td>None</td>\n",
       "      <td>3</td>\n",
       "      <td>2920</td>\n",
       "    </tr>\n",
       "    <tr>\n",
       "      <th>60</th>\n",
       "      <td>keremberke/yolov8n-protective-equipment-detection</td>\n",
       "      <td>0.000000</td>\n",
       "      <td>[protective-equipment-detection]</td>\n",
       "      <td>None</td>\n",
       "      <td>0</td>\n",
       "      <td>2910</td>\n",
       "    </tr>\n",
       "    <tr>\n",
       "      <th>59</th>\n",
       "      <td>keremberke/yolov8m-hard-hat-detection</td>\n",
       "      <td>0.000000</td>\n",
       "      <td>[hard-hat-detection]</td>\n",
       "      <td>None</td>\n",
       "      <td>8</td>\n",
       "      <td>4740</td>\n",
       "    </tr>\n",
       "    <tr>\n",
       "      <th>58</th>\n",
       "      <td>keremberke/yolov8s-hard-hat-detection</td>\n",
       "      <td>0.000000</td>\n",
       "      <td>[hard-hat-detection]</td>\n",
       "      <td>None</td>\n",
       "      <td>1</td>\n",
       "      <td>3181</td>\n",
       "    </tr>\n",
       "    <tr>\n",
       "      <th>...</th>\n",
       "      <td>...</td>\n",
       "      <td>...</td>\n",
       "      <td>...</td>\n",
       "      <td>...</td>\n",
       "      <td>...</td>\n",
       "      <td>...</td>\n",
       "    </tr>\n",
       "    <tr>\n",
       "      <th>25</th>\n",
       "      <td>keremberke/yolov5n-license-plate</td>\n",
       "      <td>0.000000</td>\n",
       "      <td>[keremberke/license-plate-object-detection]</td>\n",
       "      <td>None</td>\n",
       "      <td>17</td>\n",
       "      <td>34979</td>\n",
       "    </tr>\n",
       "    <tr>\n",
       "      <th>24</th>\n",
       "      <td>keremberke/yolov5m-blood-cell</td>\n",
       "      <td>0.000000</td>\n",
       "      <td>[keremberke/blood-cell-object-detection]</td>\n",
       "      <td>None</td>\n",
       "      <td>2</td>\n",
       "      <td>1087</td>\n",
       "    </tr>\n",
       "    <tr>\n",
       "      <th>23</th>\n",
       "      <td>keremberke/yolov5s-blood-cell</td>\n",
       "      <td>0.000000</td>\n",
       "      <td>[keremberke/blood-cell-object-detection]</td>\n",
       "      <td>None</td>\n",
       "      <td>2</td>\n",
       "      <td>673</td>\n",
       "    </tr>\n",
       "    <tr>\n",
       "      <th>22</th>\n",
       "      <td>keremberke/yolov5n-blood-cell</td>\n",
       "      <td>0.000000</td>\n",
       "      <td>[keremberke/blood-cell-object-detection]</td>\n",
       "      <td>None</td>\n",
       "      <td>5</td>\n",
       "      <td>575</td>\n",
       "    </tr>\n",
       "    <tr>\n",
       "      <th>32</th>\n",
       "      <td>keremberke/yolov5s-smoke</td>\n",
       "      <td>0.000000</td>\n",
       "      <td>[keremberke/smoke-object-detection]</td>\n",
       "      <td>None</td>\n",
       "      <td>2</td>\n",
       "      <td>591</td>\n",
       "    </tr>\n",
       "  </tbody>\n",
       "</table>\n",
       "<p>84 rows × 6 columns</p>\n",
       "</div>"
      ],
      "text/plain": [
       "                                                model  accuracy  \\\n",
       "3                   Narsil/layoutlmv3-finetuned-funsd  0.833027   \n",
       "61  keremberke/yolov8s-protective-equipment-detection  0.000000   \n",
       "60  keremberke/yolov8n-protective-equipment-detection  0.000000   \n",
       "59              keremberke/yolov8m-hard-hat-detection  0.000000   \n",
       "58              keremberke/yolov8s-hard-hat-detection  0.000000   \n",
       "..                                                ...       ...   \n",
       "25                   keremberke/yolov5n-license-plate  0.000000   \n",
       "24                      keremberke/yolov5m-blood-cell  0.000000   \n",
       "23                      keremberke/yolov5s-blood-cell  0.000000   \n",
       "22                      keremberke/yolov5n-blood-cell  0.000000   \n",
       "32                           keremberke/yolov5s-smoke  0.000000   \n",
       "\n",
       "                                        dataset                 base_model  \\\n",
       "3                     [nielsr/funsd-layoutlmv3]  microsoft/layoutlmv3-base   \n",
       "61             [protective-equipment-detection]                       None   \n",
       "60             [protective-equipment-detection]                       None   \n",
       "59                         [hard-hat-detection]                       None   \n",
       "58                         [hard-hat-detection]                       None   \n",
       "..                                          ...                        ...   \n",
       "25  [keremberke/license-plate-object-detection]                       None   \n",
       "24     [keremberke/blood-cell-object-detection]                       None   \n",
       "23     [keremberke/blood-cell-object-detection]                       None   \n",
       "22     [keremberke/blood-cell-object-detection]                       None   \n",
       "32          [keremberke/smoke-object-detection]                       None   \n",
       "\n",
       "    likes  downloads  \n",
       "3       0        621  \n",
       "61      3       2920  \n",
       "60      0       2910  \n",
       "59      8       4740  \n",
       "58      1       3181  \n",
       "..    ...        ...  \n",
       "25     17      34979  \n",
       "24      2       1087  \n",
       "23      2        673  \n",
       "22      5        575  \n",
       "32      2        591  \n",
       "\n",
       "[84 rows x 6 columns]"
      ]
     },
     "execution_count": 4,
     "metadata": {},
     "output_type": "execute_result"
    }
   ],
   "source": [
    "models = hf_api.list_models(task=\"object-detection\", cardData=True,)\n",
    "\n",
    "processed_models = []\n",
    "accuracy_values = []\n",
    "datasets = []\n",
    "base_models = []\n",
    "likes = []\n",
    "downloads = []\n",
    "\n",
    "for model in models:\n",
    "    if model.card_data:\n",
    "        card_data = yaml.safe_load(str(model.card_data))\n",
    "        is_valid, accuracy, dataset, base_model = is_valid_card_data(model, card_data)\n",
    "        if is_valid:\n",
    "            model.card_data = card_data\n",
    "            processed_models.append(model.id)\n",
    "            accuracy_values.append(accuracy or 0)\n",
    "            datasets.append(dataset or None)\n",
    "            base_models.append(base_model)\n",
    "            likes.append(model.likes)\n",
    "            downloads.append(model.downloads)\n",
    "\n",
    "df = pd.DataFrame({'model': processed_models, 'accuracy': accuracy_values, 'dataset': datasets, 'base_model': base_models, 'likes': likes, 'downloads': downloads})\n",
    "df = df.sort_values(by='accuracy', ascending=False)\n",
    "df"
   ]
  },
  {
   "cell_type": "code",
   "execution_count": null,
   "metadata": {},
   "outputs": [],
   "source": []
  },
  {
   "cell_type": "code",
   "execution_count": 5,
   "metadata": {},
   "outputs": [],
   "source": [
    "df.to_csv(\"obj_detection_models.csv\")\n",
    "df.to_pickle(\"obj_detection_models.pkl\")"
   ]
  },
  {
   "cell_type": "code",
   "execution_count": 28,
   "metadata": {},
   "outputs": [
    {
     "data": {
      "text/html": [
       "<div>\n",
       "<style scoped>\n",
       "    .dataframe tbody tr th:only-of-type {\n",
       "        vertical-align: middle;\n",
       "    }\n",
       "\n",
       "    .dataframe tbody tr th {\n",
       "        vertical-align: top;\n",
       "    }\n",
       "\n",
       "    .dataframe thead th {\n",
       "        text-align: right;\n",
       "    }\n",
       "</style>\n",
       "<table border=\"1\" class=\"dataframe\">\n",
       "  <thead>\n",
       "    <tr style=\"text-align: right;\">\n",
       "      <th></th>\n",
       "      <th>model</th>\n",
       "      <th>accuracy</th>\n",
       "      <th>dataset</th>\n",
       "    </tr>\n",
       "  </thead>\n",
       "  <tbody>\n",
       "    <tr>\n",
       "      <th>2939</th>\n",
       "      <td>ModelInfo(id='ozzyonfire/bird-species-classifi...</td>\n",
       "      <td>96.8</td>\n",
       "      <td>Bird Species</td>\n",
       "    </tr>\n",
       "    <tr>\n",
       "      <th>1253</th>\n",
       "      <td>ModelInfo(id='chriamue/bird-species-classifier...</td>\n",
       "      <td>96.8</td>\n",
       "      <td>Bird Species</td>\n",
       "    </tr>\n",
       "    <tr>\n",
       "      <th>2639</th>\n",
       "      <td>ModelInfo(id='alirzb/S1_M1_R1_beit_42507336', ...</td>\n",
       "      <td>1.0</td>\n",
       "      <td>imagefolder</td>\n",
       "    </tr>\n",
       "    <tr>\n",
       "      <th>2639</th>\n",
       "      <td>ModelInfo(id='alirzb/S1_M1_R1_beit_42507336', ...</td>\n",
       "      <td>1.0</td>\n",
       "      <td>imagenet</td>\n",
       "    </tr>\n",
       "    <tr>\n",
       "      <th>2639</th>\n",
       "      <td>ModelInfo(id='alirzb/S1_M1_R1_beit_42507336', ...</td>\n",
       "      <td>1.0</td>\n",
       "      <td>imagenet-21k</td>\n",
       "    </tr>\n",
       "    <tr>\n",
       "      <th>...</th>\n",
       "      <td>...</td>\n",
       "      <td>...</td>\n",
       "      <td>...</td>\n",
       "    </tr>\n",
       "    <tr>\n",
       "      <th>3009</th>\n",
       "      <td>ModelInfo(id='sbottazziunsam/10-classifier-fin...</td>\n",
       "      <td>0.0</td>\n",
       "      <td>imagenet-1k</td>\n",
       "    </tr>\n",
       "    <tr>\n",
       "      <th>3007</th>\n",
       "      <td>ModelInfo(id='sbottazziunsam/9-classifier-fine...</td>\n",
       "      <td>0.0</td>\n",
       "      <td>imagefolder</td>\n",
       "    </tr>\n",
       "    <tr>\n",
       "      <th>3007</th>\n",
       "      <td>ModelInfo(id='sbottazziunsam/9-classifier-fine...</td>\n",
       "      <td>0.0</td>\n",
       "      <td>chest X-rays</td>\n",
       "    </tr>\n",
       "    <tr>\n",
       "      <th>2742</th>\n",
       "      <td>ModelInfo(id='debajyotidasgupta/convnextv2-bas...</td>\n",
       "      <td>0.0</td>\n",
       "      <td>imagefolder</td>\n",
       "    </tr>\n",
       "    <tr>\n",
       "      <th>2742</th>\n",
       "      <td>ModelInfo(id='debajyotidasgupta/convnextv2-bas...</td>\n",
       "      <td>0.0</td>\n",
       "      <td>imagenet-22k</td>\n",
       "    </tr>\n",
       "  </tbody>\n",
       "</table>\n",
       "<p>6209 rows × 3 columns</p>\n",
       "</div>"
      ],
      "text/plain": [
       "                                                  model  accuracy  \\\n",
       "2939  ModelInfo(id='ozzyonfire/bird-species-classifi...      96.8   \n",
       "1253  ModelInfo(id='chriamue/bird-species-classifier...      96.8   \n",
       "2639  ModelInfo(id='alirzb/S1_M1_R1_beit_42507336', ...       1.0   \n",
       "2639  ModelInfo(id='alirzb/S1_M1_R1_beit_42507336', ...       1.0   \n",
       "2639  ModelInfo(id='alirzb/S1_M1_R1_beit_42507336', ...       1.0   \n",
       "...                                                 ...       ...   \n",
       "3009  ModelInfo(id='sbottazziunsam/10-classifier-fin...       0.0   \n",
       "3007  ModelInfo(id='sbottazziunsam/9-classifier-fine...       0.0   \n",
       "3007  ModelInfo(id='sbottazziunsam/9-classifier-fine...       0.0   \n",
       "2742  ModelInfo(id='debajyotidasgupta/convnextv2-bas...       0.0   \n",
       "2742  ModelInfo(id='debajyotidasgupta/convnextv2-bas...       0.0   \n",
       "\n",
       "           dataset  \n",
       "2939  Bird Species  \n",
       "1253  Bird Species  \n",
       "2639   imagefolder  \n",
       "2639      imagenet  \n",
       "2639  imagenet-21k  \n",
       "...            ...  \n",
       "3009   imagenet-1k  \n",
       "3007   imagefolder  \n",
       "3007  chest X-rays  \n",
       "2742   imagefolder  \n",
       "2742  imagenet-22k  \n",
       "\n",
       "[6209 rows x 3 columns]"
      ]
     },
     "execution_count": 28,
     "metadata": {},
     "output_type": "execute_result"
    }
   ],
   "source": [
    "df_explode = df.explode(\"dataset\")\n",
    "df_explode"
   ]
  },
  {
   "cell_type": "code",
   "execution_count": 4,
   "metadata": {},
   "outputs": [
    {
     "ename": "NameError",
     "evalue": "name 'df_explode' is not defined",
     "output_type": "error",
     "traceback": [
      "\u001b[0;31m---------------------------------------------------------------------------\u001b[0m",
      "\u001b[0;31mNameError\u001b[0m                                 Traceback (most recent call last)",
      "Cell \u001b[0;32mIn[4], line 1\u001b[0m\n\u001b[0;32m----> 1\u001b[0m grouped_dfs \u001b[38;5;241m=\u001b[39m {name: group\u001b[38;5;241m.\u001b[39mdrop(columns\u001b[38;5;241m=\u001b[39m\u001b[38;5;124m'\u001b[39m\u001b[38;5;124mdataset\u001b[39m\u001b[38;5;124m'\u001b[39m) \u001b[38;5;28;01mfor\u001b[39;00m name, group \u001b[38;5;129;01min\u001b[39;00m \u001b[43mdf_explode\u001b[49m\u001b[38;5;241m.\u001b[39mgroupby(\u001b[38;5;124m'\u001b[39m\u001b[38;5;124mdataset\u001b[39m\u001b[38;5;124m'\u001b[39m)}\n\u001b[1;32m      3\u001b[0m count \u001b[38;5;241m=\u001b[39m \u001b[38;5;241m0\u001b[39m\n\u001b[1;32m      4\u001b[0m \u001b[38;5;28;01mfor\u001b[39;00m dataset_name, data \u001b[38;5;129;01min\u001b[39;00m grouped_dfs\u001b[38;5;241m.\u001b[39mitems():\n",
      "\u001b[0;31mNameError\u001b[0m: name 'df_explode' is not defined"
     ]
    }
   ],
   "source": [
    "grouped_dfs = {name: group.drop(columns='dataset') for name, group in df_explode.groupby('dataset')}\n",
    "\n",
    "count = 0\n",
    "for dataset_name, data in grouped_dfs.items():\n",
    "    count +=1\n",
    "    print(f\"Dataset: {dataset_name}\")\n",
    "\n",
    "grouped_dfs[\"cats_vs_dogs\"][\"model\"]"
   ]
  },
  {
   "cell_type": "code",
   "execution_count": 18,
   "metadata": {},
   "outputs": [
    {
     "data": {
      "text/plain": [
       "[]"
      ]
     },
     "execution_count": 18,
     "metadata": {},
     "output_type": "execute_result"
    }
   ],
   "source": [
    "cheese = hf_api.list_models(author=\"hf-internal-testing\", cardData=True)\n",
    "cheese = [model for model in cheese]\n",
    "cheese"
   ]
  },
  {
   "cell_type": "code",
   "execution_count": null,
   "metadata": {},
   "outputs": [],
   "source": [
    "info = ModelCard.load(\"hf-internal-testing/tiny-random-vit\")\n",
    "info"
   ]
  }
 ],
 "metadata": {
  "kernelspec": {
   "display_name": "base",
   "language": "python",
   "name": "python3"
  },
  "language_info": {
   "codemirror_mode": {
    "name": "ipython",
    "version": 3
   },
   "file_extension": ".py",
   "mimetype": "text/x-python",
   "name": "python",
   "nbconvert_exporter": "python",
   "pygments_lexer": "ipython3",
   "version": "3.11.9"
  }
 },
 "nbformat": 4,
 "nbformat_minor": 2
}
