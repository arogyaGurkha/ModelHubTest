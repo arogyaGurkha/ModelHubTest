{
 "cells": [
  {
   "cell_type": "code",
   "execution_count": 1,
   "metadata": {},
   "outputs": [],
   "source": [
    "from PIL import Image\n",
    "from diffusers import StableDiffusionUpscalePipeline\n",
    "import transformers\n",
    "import torch\n",
    "import os\n",
    "import evaluate"
   ]
  },
  {
   "cell_type": "code",
   "execution_count": 25,
   "metadata": {},
   "outputs": [],
   "source": [
    "def image_feeder(folder_path):\n",
    "    images = []\n",
    "    files = []\n",
    "    for file in os.listdir(folder_path):\n",
    "        try:\n",
    "            # new_name = f\"cartoon_dog_and_cat_{file}\"\n",
    "            img_path = os.path.join(folder_path, file)\n",
    "            # new_name_path = os.path.join(folder_path, new_name)\n",
    "\n",
    "            # os.rename(img_path, new_name_path)\n",
    "\n",
    "            img = Image.open(img_path)\n",
    "            images.append(img)\n",
    "            files.append(file)\n",
    "        except IOError:\n",
    "            print(f\"Could not read image: {file}\")\n",
    "    return images, files"
   ]
  },
  {
   "cell_type": "code",
   "execution_count": 3,
   "metadata": {},
   "outputs": [
    {
     "name": "stderr",
     "output_type": "stream",
     "text": [
      "/opt/conda/lib/python3.11/site-packages/huggingface_hub/file_download.py:1132: FutureWarning: `resume_download` is deprecated and will be removed in version 1.0.0. Downloads always resume when possible. If you want to force a new download, use `force_download=True`.\n",
      "  warnings.warn(\n"
     ]
    },
    {
     "data": {
      "application/vnd.jupyter.widget-view+json": {
       "model_id": "9334ac1be34044c7bbe3a28b25ce2fce",
       "version_major": 2,
       "version_minor": 0
      },
      "text/plain": [
       "Loading pipeline components...:   0%|          | 0/6 [00:00<?, ?it/s]"
      ]
     },
     "metadata": {},
     "output_type": "display_data"
    }
   ],
   "source": [
    "# Prepare upscaler pipeline\n",
    "upscaler = \"stabilityai/stable-diffusion-x4-upscaler\"\n",
    "pipeline = StableDiffusionUpscalePipeline.from_pretrained(upscaler, torch_dtype=torch.float16)\n",
    "pipeline = pipeline.to(\"cuda\")"
   ]
  },
  {
   "cell_type": "code",
   "execution_count": 3,
   "metadata": {},
   "outputs": [],
   "source": [
    "def upscaler(image, pipeline, prompt):\n",
    "    low_res_img = image.resize((128, 128))\n",
    "    \n",
    "    upscaled_image = pipeline(prompt=prompt, image=low_res_img).images[0]\n",
    "    return upscaled_image"
   ]
  },
  {
   "cell_type": "code",
   "execution_count": 24,
   "metadata": {},
   "outputs": [
    {
     "data": {
      "text/plain": [
       "['3.jpg',\n",
       " '5.jpg',\n",
       " '4.png',\n",
       " '9.jpg',\n",
       " '6.jpg',\n",
       " '7.jpg',\n",
       " '10.png',\n",
       " '2.jpg',\n",
       " '8.jpg',\n",
       " '1.jpg']"
      ]
     },
     "execution_count": 24,
     "metadata": {},
     "output_type": "execute_result"
    }
   ],
   "source": [
    "cartoon_cat_path = \"../assets/Evaluation Dataset/Cartoon Dog and Cat\"\n",
    "\n",
    "images, files = image_feeder(cartoon_cat_path)\n",
    "\n",
    "files"
   ]
  },
  {
   "cell_type": "code",
   "execution_count": 2,
   "metadata": {},
   "outputs": [],
   "source": [
    "import pandas as pd\n",
    "\n",
    "def collect_files_and_labels(base_path):\n",
    "    data = {'file_path': [], 'label': []}\n",
    "\n",
    "    categories = {\n",
    "        'Real Cat': 'cat',\n",
    "        'Real Dog': 'dog',\n",
    "        'Cartoon Cat': 'cat',\n",
    "        'Cartoon Dog': 'dog'\n",
    "    }\n",
    "\n",
    "    for folder, label in categories.items():\n",
    "        folder_path = os.path.join(base_path, folder)\n",
    "        for filename in os.listdir(folder_path):\n",
    "            file_path = os.path.join(folder_path, filename)\n",
    "            if os.path.isfile(file_path):\n",
    "                data['file_path'].append(file_path)\n",
    "                data['label'].append(label)\n",
    "\n",
    "    df = pd.DataFrame(data)\n",
    "    return df\n",
    "\n",
    "base_path = '/workspaces/ModelHubTest/experiments/assets/Evaluation Dataset'\n",
    "df = collect_files_and_labels(base_path)\n",
    "\n",
    "df.to_csv(\"../assets/Evaluation Dataset/evaluation_dataset.csv\")"
   ]
  },
  {
   "cell_type": "code",
   "execution_count": 45,
   "metadata": {},
   "outputs": [
    {
     "data": {
      "text/plain": [
       "model         danieltur/my_awesome_catdog_model\n",
       "accuracy                                    1.0\n",
       "dataset                          [cats_vs_dogs]\n",
       "base_model    google/vit-base-patch16-224-in21k\n",
       "likes                                         0\n",
       "downloads                                    12\n",
       "Name: 6, dtype: object"
      ]
     },
     "execution_count": 45,
     "metadata": {},
     "output_type": "execute_result"
    }
   ],
   "source": [
    "# prepare classification model\n",
    "\n",
    "cat_dog_models = pd.read_pickle(\"/workspaces/ModelHubTest/experiments/cats_vs_dogs.pkl\")\n",
    "cat_dog_models.iloc[0]"
   ]
  },
  {
   "cell_type": "code",
   "execution_count": 22,
   "metadata": {},
   "outputs": [
    {
     "name": "stdout",
     "output_type": "stream",
     "text": [
      "danieltur/my_awesome_catdog_model\n",
      "ChasingMercer/beit-base\n",
      "efederici/convnext-base-224-22k-1k-orig-cats-vs-dogs\n",
      "Camilosan/Modelo-catsVSdogs\n",
      "ismgar01/vit-base-cats-vs-dogs\n",
      "nateraw/vit-base-cats-vs-dogs\n",
      "cppgohan/resnet-50-finetuned-dog-vs-cat\n",
      "tangocrazyguy/resnet-50-finetuned-cats_vs_dogs\n",
      "akahana/vit-base-cats-vs-dogs\n",
      "Amadeus99/cat_vs_dog_classifier\n",
      "mhdiqbalpradipta/cat_or_dogs\n",
      "Natalia2314/vit-base-catsVSdogs-demo-v5\n",
      "Dricz/cat-vs-dog-resnet-50\n"
     ]
    }
   ],
   "source": [
    "for model in cat_dog_models[\"model\"]:\n",
    "    print(model)"
   ]
  },
  {
   "cell_type": "code",
   "execution_count": 13,
   "metadata": {},
   "outputs": [
    {
     "name": "stdout",
     "output_type": "stream",
     "text": [
      "Setting up classifier for model: danieltur/my_awesome_catdog_model\n"
     ]
    },
    {
     "name": "stderr",
     "output_type": "stream",
     "text": [
      "/opt/conda/lib/python3.11/site-packages/huggingface_hub/file_download.py:1132: FutureWarning: `resume_download` is deprecated and will be removed in version 1.0.0. Downloads always resume when possible. If you want to force a new download, use `force_download=True`.\n",
      "  warnings.warn(\n"
     ]
    },
    {
     "name": "stdout",
     "output_type": "stream",
     "text": [
      "Results with model danieltur/my_awesome_catdog_model:\n",
      "Setting up classifier for model: ChasingMercer/beit-base\n"
     ]
    },
    {
     "name": "stderr",
     "output_type": "stream",
     "text": [
      "/opt/conda/lib/python3.11/site-packages/huggingface_hub/file_download.py:1132: FutureWarning: `resume_download` is deprecated and will be removed in version 1.0.0. Downloads always resume when possible. If you want to force a new download, use `force_download=True`.\n",
      "  warnings.warn(\n",
      "/opt/conda/lib/python3.11/site-packages/transformers/models/beit/feature_extraction_beit.py:28: FutureWarning: The class BeitFeatureExtractor is deprecated and will be removed in version 5 of Transformers. Please use BeitImageProcessor instead.\n",
      "  warnings.warn(\n"
     ]
    },
    {
     "name": "stdout",
     "output_type": "stream",
     "text": [
      "Results with model ChasingMercer/beit-base:\n",
      "Setting up classifier for model: efederici/convnext-base-224-22k-1k-orig-cats-vs-dogs\n"
     ]
    },
    {
     "name": "stderr",
     "output_type": "stream",
     "text": [
      "/opt/conda/lib/python3.11/site-packages/huggingface_hub/file_download.py:1132: FutureWarning: `resume_download` is deprecated and will be removed in version 1.0.0. Downloads always resume when possible. If you want to force a new download, use `force_download=True`.\n",
      "  warnings.warn(\n",
      "Could not find image processor class in the image processor config or the model config. Loading based on pattern matching with the model's feature extractor configuration. Please open a PR/issue to update `preprocessor_config.json` to use `image_processor_type` instead of `feature_extractor_type`. This warning will be removed in v4.40.\n"
     ]
    },
    {
     "name": "stdout",
     "output_type": "stream",
     "text": [
      "Results with model efederici/convnext-base-224-22k-1k-orig-cats-vs-dogs:\n",
      "Setting up classifier for model: Camilosan/Modelo-catsVSdogs\n"
     ]
    },
    {
     "name": "stderr",
     "output_type": "stream",
     "text": [
      "/opt/conda/lib/python3.11/site-packages/huggingface_hub/file_download.py:1132: FutureWarning: `resume_download` is deprecated and will be removed in version 1.0.0. Downloads always resume when possible. If you want to force a new download, use `force_download=True`.\n",
      "  warnings.warn(\n",
      "/opt/conda/lib/python3.11/site-packages/transformers/models/vit/feature_extraction_vit.py:28: FutureWarning: The class ViTFeatureExtractor is deprecated and will be removed in version 5 of Transformers. Please use ViTImageProcessor instead.\n",
      "  warnings.warn(\n"
     ]
    },
    {
     "name": "stdout",
     "output_type": "stream",
     "text": [
      "Results with model Camilosan/Modelo-catsVSdogs:\n",
      "Setting up classifier for model: ismgar01/vit-base-cats-vs-dogs\n"
     ]
    },
    {
     "name": "stderr",
     "output_type": "stream",
     "text": [
      "/opt/conda/lib/python3.11/site-packages/huggingface_hub/file_download.py:1132: FutureWarning: `resume_download` is deprecated and will be removed in version 1.0.0. Downloads always resume when possible. If you want to force a new download, use `force_download=True`.\n",
      "  warnings.warn(\n",
      "Could not find image processor class in the image processor config or the model config. Loading based on pattern matching with the model's feature extractor configuration. Please open a PR/issue to update `preprocessor_config.json` to use `image_processor_type` instead of `feature_extractor_type`. This warning will be removed in v4.40.\n"
     ]
    },
    {
     "name": "stdout",
     "output_type": "stream",
     "text": [
      "Results with model ismgar01/vit-base-cats-vs-dogs:\n",
      "Setting up classifier for model: nateraw/vit-base-cats-vs-dogs\n"
     ]
    },
    {
     "name": "stderr",
     "output_type": "stream",
     "text": [
      "/opt/conda/lib/python3.11/site-packages/huggingface_hub/file_download.py:1132: FutureWarning: `resume_download` is deprecated and will be removed in version 1.0.0. Downloads always resume when possible. If you want to force a new download, use `force_download=True`.\n",
      "  warnings.warn(\n",
      "Could not find image processor class in the image processor config or the model config. Loading based on pattern matching with the model's feature extractor configuration. Please open a PR/issue to update `preprocessor_config.json` to use `image_processor_type` instead of `feature_extractor_type`. This warning will be removed in v4.40.\n"
     ]
    },
    {
     "name": "stdout",
     "output_type": "stream",
     "text": [
      "Results with model nateraw/vit-base-cats-vs-dogs:\n",
      "Setting up classifier for model: cppgohan/resnet-50-finetuned-dog-vs-cat\n"
     ]
    },
    {
     "name": "stderr",
     "output_type": "stream",
     "text": [
      "/opt/conda/lib/python3.11/site-packages/huggingface_hub/file_download.py:1132: FutureWarning: `resume_download` is deprecated and will be removed in version 1.0.0. Downloads always resume when possible. If you want to force a new download, use `force_download=True`.\n",
      "  warnings.warn(\n"
     ]
    },
    {
     "name": "stdout",
     "output_type": "stream",
     "text": [
      "Results with model cppgohan/resnet-50-finetuned-dog-vs-cat:\n",
      "Setting up classifier for model: tangocrazyguy/resnet-50-finetuned-cats_vs_dogs\n"
     ]
    },
    {
     "name": "stderr",
     "output_type": "stream",
     "text": [
      "/opt/conda/lib/python3.11/site-packages/huggingface_hub/file_download.py:1132: FutureWarning: `resume_download` is deprecated and will be removed in version 1.0.0. Downloads always resume when possible. If you want to force a new download, use `force_download=True`.\n",
      "  warnings.warn(\n"
     ]
    },
    {
     "name": "stdout",
     "output_type": "stream",
     "text": [
      "Results with model tangocrazyguy/resnet-50-finetuned-cats_vs_dogs:\n",
      "Setting up classifier for model: akahana/vit-base-cats-vs-dogs\n"
     ]
    },
    {
     "name": "stderr",
     "output_type": "stream",
     "text": [
      "/opt/conda/lib/python3.11/site-packages/huggingface_hub/file_download.py:1132: FutureWarning: `resume_download` is deprecated and will be removed in version 1.0.0. Downloads always resume when possible. If you want to force a new download, use `force_download=True`.\n",
      "  warnings.warn(\n",
      "Could not find image processor class in the image processor config or the model config. Loading based on pattern matching with the model's feature extractor configuration. Please open a PR/issue to update `preprocessor_config.json` to use `image_processor_type` instead of `feature_extractor_type`. This warning will be removed in v4.40.\n"
     ]
    },
    {
     "name": "stdout",
     "output_type": "stream",
     "text": [
      "Results with model akahana/vit-base-cats-vs-dogs:\n",
      "Setting up classifier for model: Amadeus99/cat_vs_dog_classifier\n"
     ]
    },
    {
     "name": "stderr",
     "output_type": "stream",
     "text": [
      "/opt/conda/lib/python3.11/site-packages/huggingface_hub/file_download.py:1132: FutureWarning: `resume_download` is deprecated and will be removed in version 1.0.0. Downloads always resume when possible. If you want to force a new download, use `force_download=True`.\n",
      "  warnings.warn(\n"
     ]
    },
    {
     "name": "stdout",
     "output_type": "stream",
     "text": [
      "Results with model Amadeus99/cat_vs_dog_classifier:\n",
      "Setting up classifier for model: mhdiqbalpradipta/cat_or_dogs\n"
     ]
    },
    {
     "name": "stderr",
     "output_type": "stream",
     "text": [
      "/opt/conda/lib/python3.11/site-packages/huggingface_hub/file_download.py:1132: FutureWarning: `resume_download` is deprecated and will be removed in version 1.0.0. Downloads always resume when possible. If you want to force a new download, use `force_download=True`.\n",
      "  warnings.warn(\n",
      "/opt/conda/lib/python3.11/site-packages/transformers/models/vit/feature_extraction_vit.py:28: FutureWarning: The class ViTFeatureExtractor is deprecated and will be removed in version 5 of Transformers. Please use ViTImageProcessor instead.\n",
      "  warnings.warn(\n"
     ]
    },
    {
     "name": "stdout",
     "output_type": "stream",
     "text": [
      "Results with model mhdiqbalpradipta/cat_or_dogs:\n",
      "Setting up classifier for model: Natalia2314/vit-base-catsVSdogs-demo-v5\n"
     ]
    },
    {
     "name": "stderr",
     "output_type": "stream",
     "text": [
      "/opt/conda/lib/python3.11/site-packages/huggingface_hub/file_download.py:1132: FutureWarning: `resume_download` is deprecated and will be removed in version 1.0.0. Downloads always resume when possible. If you want to force a new download, use `force_download=True`.\n",
      "  warnings.warn(\n",
      "/opt/conda/lib/python3.11/site-packages/transformers/models/vit/feature_extraction_vit.py:28: FutureWarning: The class ViTFeatureExtractor is deprecated and will be removed in version 5 of Transformers. Please use ViTImageProcessor instead.\n",
      "  warnings.warn(\n"
     ]
    },
    {
     "name": "stdout",
     "output_type": "stream",
     "text": [
      "Results with model Natalia2314/vit-base-catsVSdogs-demo-v5:\n",
      "Setting up classifier for model: Dricz/cat-vs-dog-resnet-50\n"
     ]
    },
    {
     "name": "stderr",
     "output_type": "stream",
     "text": [
      "/opt/conda/lib/python3.11/site-packages/huggingface_hub/file_download.py:1132: FutureWarning: `resume_download` is deprecated and will be removed in version 1.0.0. Downloads always resume when possible. If you want to force a new download, use `force_download=True`.\n",
      "  warnings.warn(\n"
     ]
    },
    {
     "name": "stdout",
     "output_type": "stream",
     "text": [
      "Results with model Dricz/cat-vs-dog-resnet-50:\n"
     ]
    }
   ],
   "source": [
    "# Prepare classification model\n",
    "\n",
    "def create_classifier(model_id, device_num=0):\n",
    "    return transformers.pipeline(model=model_id, device=device_num)\n",
    "\n",
    "# def predict_image(classifier, file_path):\n",
    "#     try:\n",
    "#         image = Image.open(file_path)\n",
    "#         image = image.convert('RGB')  # Ensure image is in RGB format\n",
    "        \n",
    "#         result = classifier(image)\n",
    "#         predicted_label = result[0]['label'].split()[-1]\n",
    "#         return predicted_label.lower()\n",
    "#     except Exception as e:\n",
    "#         print(f\"Error processing file {file_path}: {str(e)}\")\n",
    "#         return None\n",
    "\n",
    "def predict_images_batch(classifier, file_paths, batch_size=128):\n",
    "    predictions = []\n",
    "    for i in range(0, len(file_paths), batch_size):\n",
    "        batch = file_paths[i:i+batch_size]\n",
    "        images = [Image.open(file) for file in batch]\n",
    "        # images = [Image.open(file).convert('RGB') for file in batch]\n",
    "        try:\n",
    "            batch_preds = classifier(images)\n",
    "            batch_labels = [pred[0]['label'].split()[-1].lower() for pred in batch_preds]\n",
    "            predictions.extend(batch_labels)\n",
    "        except Exception as e:\n",
    "            print(f\"Error processing batch starting at index {i}: {str(e)}\")\n",
    "            predictions.extend([None] * len(batch))\n",
    "    return predictions\n",
    "\n",
    "clf_metrics = evaluate.combine([\"accuracy\", \"f1\", \"precision\", \"recall\"])\n",
    "# acc = []\n",
    "# pre = []\n",
    "# recall = []\n",
    "# f1 = []\n",
    "\n",
    "for index, model_info in cat_dog_models.iterrows():\n",
    "    model_id = model_info['model'].id\n",
    "    print(f\"Setting up classifier for model: {model_id}\")\n",
    "    classifier = create_classifier(model_id, device_num=0)\n",
    "    \n",
    "    df[\"model_id\"] = model_info['model'].id\n",
    "    df[\"predicted_label\"] = predict_images_batch(classifier, df[\"file_path\"].tolist())\n",
    "\n",
    "    print(f\"Results with model {model_id}:\")\n",
    "\n",
    "    label_map = {'cat': 0, 'dog': 1}\n",
    "    df['true_labels'] = df['label'].map(label_map)\n",
    "    df['pred_labels'] = df['predicted_label'].map(label_map)\n",
    "\n",
    "    # df['pred_labels'] = df['pred_labels'].fillna(-1)  # Handle NaNs by setting them to -1\n",
    "    # df['pred_labels'] = df['pred_labels'].astype(int)\n",
    "    csv_name = model_id.split(\"/\")[0] + \"-\" + model_id.split(\"/\")[1]\n",
    "    df.to_csv(f\"./evaluation_results/{csv_name}_evaluation_results.csv\")\n",
    "    \n",
    "    # results = clf_metrics.compute(\n",
    "    #     references=df['true_labels'].tolist(),\n",
    "    #     predictions=df['pred_labels'].tolist()\n",
    "    # )\n",
    "\n",
    "    # # try:\n",
    "    # acc.append(results['accuracy'])\n",
    "    # pre.append(results['precision'])\n",
    "    # recall.append(results['recall'])\n",
    "    # f1.append(results['f1'])\n",
    "    # exce\n",
    "\n",
    "    # print(results[\"accuracy\"])\n",
    "\n",
    "\n"
   ]
  },
  {
   "cell_type": "code",
   "execution_count": 23,
   "metadata": {},
   "outputs": [],
   "source": [
    "label_map = {'cat': 0, 'dog': 1}\n",
    "df['true_labels'] = df['label'].map(label_map)\n",
    "df['pred_labels'] = df['predicted_label'].map(label_map)\n",
    "\n",
    "# df['pred_labels'] = df['pred_labels'].fillna(-1)  # Handle NaNs by setting them to -1\n",
    "# df['pred_labels'] = df['pred_labels'].astype(int)\n",
    "df.to_csv(f\"{model_id}evaluation_results.csv\")"
   ]
  },
  {
   "cell_type": "code",
   "execution_count": 40,
   "metadata": {},
   "outputs": [
    {
     "name": "stdout",
     "output_type": "stream",
     "text": [
      "Current file: /workspaces/ModelHubTest/experiments/prediction_model/evaluation_results/Camilosan-Modelo-catsVSdogs_evaluation_results.csv\n",
      "Current file: /workspaces/ModelHubTest/experiments/prediction_model/evaluation_results/tangocrazyguy-resnet-50-finetuned-cats_vs_dogs_evaluation_results.csv\n",
      "Current file: /workspaces/ModelHubTest/experiments/prediction_model/evaluation_results/Natalia2314-vit-base-catsVSdogs-demo-v5_evaluation_results.csv\n",
      "Current file: /workspaces/ModelHubTest/experiments/prediction_model/evaluation_results/Dricz-cat-vs-dog-resnet-50_evaluation_results.csv\n",
      "Current file: /workspaces/ModelHubTest/experiments/prediction_model/evaluation_results/akahana-vit-base-cats-vs-dogs_evaluation_results.csv\n",
      "Current file: /workspaces/ModelHubTest/experiments/prediction_model/evaluation_results/nateraw-vit-base-cats-vs-dogs_evaluation_results.csv\n",
      "Current file: /workspaces/ModelHubTest/experiments/prediction_model/evaluation_results/cppgohan-resnet-50-finetuned-dog-vs-cat_evaluation_results.csv\n",
      "Current file: /workspaces/ModelHubTest/experiments/prediction_model/evaluation_results/mhdiqbalpradipta-cat_or_dogs_evaluation_results.csv\n",
      "Current file: /workspaces/ModelHubTest/experiments/prediction_model/evaluation_results/ismgar01-vit-base-cats-vs-dogs_evaluation_results.csv\n",
      "Current file: /workspaces/ModelHubTest/experiments/prediction_model/evaluation_results/Amadeus99-cat_vs_dog_classifier_evaluation_results.csv\n",
      "Current file: /workspaces/ModelHubTest/experiments/prediction_model/evaluation_results/danieltur-my_awesome_catdog_model_evaluation_results.csv\n",
      "Current file: /workspaces/ModelHubTest/experiments/prediction_model/evaluation_results/efederici-convnext-base-224-22k-1k-orig-cats-vs-dogs_evaluation_results.csv\n"
     ]
    },
    {
     "name": "stderr",
     "output_type": "stream",
     "text": [
      "/opt/conda/lib/python3.11/site-packages/sklearn/metrics/_classification.py:1509: UndefinedMetricWarning: Precision is ill-defined and being set to 0.0 due to no predicted samples. Use `zero_division` parameter to control this behavior.\n",
      "  _warn_prf(average, modifier, f\"{metric.capitalize()} is\", len(result))\n"
     ]
    },
    {
     "data": {
      "text/plain": [
       "{'Camilosan/Modelo-catsVSdogs': {'accuracy': 0.7128247650635711,\n",
       "  'f1': 0.3558586484810911,\n",
       "  'precision': 0.21725965177895534,\n",
       "  'recall': 0.9828767123287672},\n",
       " 'tangocrazyguy/resnet-50-finetuned-cats_vs_dogs': {'accuracy': 0.9187396351575456,\n",
       "  'f1': 0.4965753424657534,\n",
       "  'precision': 0.4965753424657534,\n",
       "  'recall': 0.4965753424657534},\n",
       " 'Natalia2314/vit-base-catsVSdogs-demo-v5': {'accuracy': 0.8606965174129353,\n",
       "  'f1': 0.5135135135135135,\n",
       "  'precision': 0.3575268817204301,\n",
       "  'recall': 0.910958904109589},\n",
       " 'Dricz/cat-vs-dog-resnet-50': {'accuracy': 0.9466556108347153,\n",
       "  'f1': 0.5758241758241758,\n",
       "  'precision': 0.803680981595092,\n",
       "  'recall': 0.4486301369863014},\n",
       " 'akahana/vit-base-cats-vs-dogs': {'accuracy': 0.7487562189054726,\n",
       "  'f1': 0.3656664340544313,\n",
       "  'precision': 0.22962313759859773,\n",
       "  'recall': 0.8972602739726028},\n",
       " 'nateraw/vit-base-cats-vs-dogs': {'accuracy': 0.685737976782753,\n",
       "  'f1': 0.32119402985074624,\n",
       "  'precision': 0.19450469992769343,\n",
       "  'recall': 0.9212328767123288},\n",
       " 'cppgohan/resnet-50-finetuned-dog-vs-cat': {'accuracy': 0.9372581536760641,\n",
       "  'f1': 0.5487077534791253,\n",
       "  'precision': 0.6540284360189573,\n",
       "  'recall': 0.4726027397260274},\n",
       " 'mhdiqbalpradipta/cat_or_dogs': {'accuracy': 0.6627971254836926,\n",
       "  'f1': 0.3076049943246311,\n",
       "  'precision': 0.18435374149659864,\n",
       "  'recall': 0.928082191780822},\n",
       " 'ismgar01/vit-base-cats-vs-dogs': {'accuracy': 0.7072968490878938,\n",
       "  'f1': 0.3522935779816514,\n",
       "  'precision': 0.2144452717795979,\n",
       "  'recall': 0.9863013698630136},\n",
       " 'Amadeus99/cat_vs_dog_classifier': {'accuracy': 0.6547816473189607,\n",
       "  'f1': 0.31335898845519516,\n",
       "  'precision': 0.18664047151277013,\n",
       "  'recall': 0.976027397260274},\n",
       " 'danieltur/my_awesome_catdog_model': {'accuracy': 0.9192924267551134,\n",
       "  'f1': 0.0,\n",
       "  'precision': 0.0,\n",
       "  'recall': 0.0},\n",
       " 'efederici/convnext-base-224-22k-1k-orig-cats-vs-dogs': {'accuracy': 0.9300718629076838,\n",
       "  'f1': 0.6817610062893081,\n",
       "  'precision': 0.5387673956262425,\n",
       "  'recall': 0.928082191780822}}"
      ]
     },
     "execution_count": 40,
     "metadata": {},
     "output_type": "execute_result"
    }
   ],
   "source": [
    "import pandas as pd \n",
    "\n",
    "def evaluation_results(folder_path, metrics):\n",
    "    results = {}\n",
    "    for file in os.listdir(folder_path):\n",
    "        try:\n",
    "            file_path = os.path.join(folder_path, file)\n",
    "            print(f\"Current file: {file_path}\")\n",
    "            df = pd.read_csv(file_path)\n",
    "            result = metrics.compute(\n",
    "                references=df['true_labels'].tolist(),\n",
    "                predictions=df['pred_labels'].tolist()\n",
    "            )\n",
    "            results[df[\"model_id\"][0]] = result\n",
    "            \n",
    "        except IOError:\n",
    "            print(f\"Could not read file: {file}\")\n",
    "    return results\n",
    "\n",
    "\n",
    "\n",
    "clf_metrics = evaluate.combine([\"accuracy\", \"f1\", \"precision\", \"recall\"])\n",
    "results = evaluation_results(\"/workspaces/ModelHubTest/experiments/prediction_model/evaluation_results\", clf_metrics)\n",
    "# names = set(names)\n",
    "\n",
    "results"
   ]
  },
  {
   "cell_type": "code",
   "execution_count": 46,
   "metadata": {},
   "outputs": [],
   "source": [
    "# cat_dog_models[\"pipeline_accuracy\"] = cat_dog_models[\"model\"].apply(\n",
    "#     lambda id: results[id][\"accuracy\"] if id in results else -1\n",
    "# )\n",
    "\n",
    "# cat_dog_models['pipeline_recall'] = cat_dog_models['model'].apply(\n",
    "#     lambda id: results[id]['recall'] if id in results else -1\n",
    "# )\n",
    "\n",
    "# cat_dog_models['pipeline_f1'] = cat_dog_models['model'].apply(\n",
    "#     lambda id: results[id]['f1'] if id in results else -1\n",
    "# )\n",
    "\n",
    "cat_dog_models['pipeline_precision'] = cat_dog_models['model'].apply(\n",
    "    lambda id: results[id]['precision'] if id in results else -1\n",
    ")\n",
    "\n",
    "cat_dog_models.to_csv(\"cat_dog_dataset.csv\")\n"
   ]
  },
  {
   "cell_type": "code",
   "execution_count": null,
   "metadata": {},
   "outputs": [],
   "source": [
    "# df['Status'] = df['Age'].apply(lambda x: 'Adult' if x >= 18 else 'Minor')\n",
    "\n",
    "# for\n",
    "\n",
    "df[]\n",
    "\n",
    "model_ids = set(df_names['Name'])\n",
    "\n",
    "# Add a new column 'Matched' to df_main that checks if each name is in df_names\n",
    "df_main['Matched'] = df_main['Name'].apply(lambda name: 'Match' if name in names_set else 'No Match')\n",
    "\n",
    "print(df_main)"
   ]
  }
 ],
 "metadata": {
  "kernelspec": {
   "display_name": "base",
   "language": "python",
   "name": "python3"
  },
  "language_info": {
   "codemirror_mode": {
    "name": "ipython",
    "version": 3
   },
   "file_extension": ".py",
   "mimetype": "text/x-python",
   "name": "python",
   "nbconvert_exporter": "python",
   "pygments_lexer": "ipython3",
   "version": "3.11.9"
  }
 },
 "nbformat": 4,
 "nbformat_minor": 2
}
